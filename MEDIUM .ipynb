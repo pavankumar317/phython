{
 "cells": [
  {
   "cell_type": "markdown",
   "id": "46c4977b",
   "metadata": {},
   "source": [
    "1.Question: Write a Python program using a for loop to print all even numbers from 1 to 20.\n"
   ]
  },
  {
   "cell_type": "code",
   "execution_count": 1,
   "id": "2e8357b3",
   "metadata": {},
   "outputs": [
    {
     "name": "stdout",
     "output_type": "stream",
     "text": [
      "2\n",
      "4\n",
      "6\n",
      "8\n",
      "10\n",
      "12\n",
      "14\n",
      "16\n",
      "18\n",
      "20\n"
     ]
    }
   ],
   "source": [
    "for num in range(1, 21):\n",
    "    if num % 2 == 0:\n",
    "        print(num)\n"
   ]
  },
  {
   "cell_type": "markdown",
   "id": "59c6ad0a",
   "metadata": {},
   "source": [
    "2.Question: Write a Python program using a nested loop to print a right-angled triangle pattern."
   ]
  },
  {
   "cell_type": "code",
   "execution_count": 2,
   "id": "f09bbae0",
   "metadata": {},
   "outputs": [
    {
     "name": "stdout",
     "output_type": "stream",
     "text": [
      "*\n",
      "**\n",
      "***\n",
      "****\n",
      "*****\n"
     ]
    }
   ],
   "source": [
    "size = 5\n",
    "\n",
    "for i in range(1, size + 1):\n",
    "    for j in range(1, i + 1):\n",
    "        print(\"*\", end=\"\")\n",
    "    print()"
   ]
  },
  {
   "cell_type": "markdown",
   "id": "b30513ec",
   "metadata": {},
   "source": [
    "3.Question: Write a Python program using a for loop to calculate the sum of all numbers from 1 to 100."
   ]
  },
  {
   "cell_type": "code",
   "execution_count": 3,
   "id": "dc470731",
   "metadata": {},
   "outputs": [
    {
     "name": "stdout",
     "output_type": "stream",
     "text": [
      "Sum of numbers from 1 to 100: 5050\n",
      "Sum of numbers from 1 to 100: 5050\n"
     ]
    }
   ],
   "source": [
    "sum_numbers = 0\n",
    "\n",
    "for num in range(1, 101):\n",
    "    sum_numbers += num\n",
    "\n",
    "print(\"Sum of numbers from 1 to 100:\", sum_numbers)"
   ]
  },
  {
   "cell_type": "markdown",
   "id": "ae1cd72c",
   "metadata": {},
   "source": [
    "4.Question: Write a Python program using nested for loops to print a half-pyramid pattern of stars."
   ]
  },
  {
   "cell_type": "code",
   "execution_count": 4,
   "id": "6be03985",
   "metadata": {},
   "outputs": [
    {
     "name": "stdout",
     "output_type": "stream",
     "text": [
      "*\n",
      "**\n",
      "***\n",
      "****\n",
      "*****\n",
      "*\n",
      "**\n",
      "***\n",
      "****\n",
      "*****\n"
     ]
    }
   ],
   "source": [
    "size = 5\n",
    "\n",
    "for i in range(1, size + 1):\n",
    "    for j in range(1, i + 1):\n",
    "        print(\"*\", end=\"\")\n",
    "    print()\n"
   ]
  },
  {
   "cell_type": "markdown",
   "id": "f54d1fc0",
   "metadata": {},
   "source": [
    "5.Question: Write a Python program using a while loop to find the sum of all numbers from 1 to 50."
   ]
  },
  {
   "cell_type": "code",
   "execution_count": 5,
   "id": "476ffad9",
   "metadata": {},
   "outputs": [
    {
     "name": "stdout",
     "output_type": "stream",
     "text": [
      "Sum of numbers from 1 to 50: 1275\n",
      "Sum of numbers from 1 to 50: 1275\n"
     ]
    }
   ],
   "source": [
    "sum_numbers = 0\n",
    "num = 1\n",
    "\n",
    "while num <= 50:\n",
    "    sum_numbers += num\n",
    "    num += 1\n",
    "\n",
    "print(\"Sum of numbers from 1 to 50:\", sum_numbers)\n"
   ]
  },
  {
   "cell_type": "markdown",
   "id": "4b17de0a",
   "metadata": {},
   "source": [
    "6.Question: Write a Python program using a for loop to print all even numbers from 1 to 20."
   ]
  },
  {
   "cell_type": "code",
   "execution_count": 20,
   "id": "69464d5e",
   "metadata": {},
   "outputs": [
    {
     "name": "stdout",
     "output_type": "stream",
     "text": [
      "2\n",
      "4\n",
      "6\n",
      "8\n",
      "10\n",
      "12\n",
      "14\n",
      "16\n",
      "18\n",
      "20\n"
     ]
    }
   ],
   "source": [
    "for num in range(1, 21):\n",
    "    if num % 2 == 0:\n",
    "        print(num)\n"
   ]
  },
  {
   "cell_type": "markdown",
   "id": "021c710e",
   "metadata": {},
   "source": [
    "7.Question: Write a Python program using a nested loop to print a right-angled triangle pattern.\n",
    "\n"
   ]
  },
  {
   "cell_type": "code",
   "execution_count": 22,
   "id": "a78d499e",
   "metadata": {},
   "outputs": [
    {
     "name": "stdout",
     "output_type": "stream",
     "text": [
      "*\n",
      "**\n",
      "***\n",
      "****\n",
      "*****\n"
     ]
    }
   ],
   "source": [
    "size = 5\n",
    "\n",
    "for i in range(1, size + 1):\n",
    "    for j in range(1, i + 1):\n",
    "        print(\"*\", end=\"\")\n",
    "    print()"
   ]
  },
  {
   "cell_type": "markdown",
   "id": "628671a7",
   "metadata": {},
   "source": [
    "8. Write a Python program to calculate the factorial of a given number using a for loop."
   ]
  },
  {
   "cell_type": "code",
   "execution_count": 1,
   "id": "34d538da",
   "metadata": {},
   "outputs": [
    {
     "name": "stdout",
     "output_type": "stream",
     "text": [
      "1\n",
      "2\n",
      "3\n",
      "4\n",
      "5\n",
      "6\n",
      "7\n",
      "8\n",
      "9\n",
      "10\n"
     ]
    }
   ],
   "source": [
    "for num in range(1, 11):\n",
    "    print(num)"
   ]
  },
  {
   "cell_type": "markdown",
   "id": "43d3e97e",
   "metadata": {},
   "source": [
    "9. Question: Write a Python program to print the first 10 natural numbers using a for loop."
   ]
  },
  {
   "cell_type": "code",
   "execution_count": 9,
   "id": "93ebf32a",
   "metadata": {},
   "outputs": [
    {
     "name": "stdout",
     "output_type": "stream",
     "text": [
      "Enter a number: 5\n",
      "Factorial of 5 is 120\n",
      "Factorial of 5 is 120\n"
     ]
    }
   ],
   "source": [
    "def factorial(num):\n",
    "    result = 1\n",
    "    for i in range(1, num + 1):\n",
    "        result *= i\n",
    "    return result\n",
    "\n",
    "# Input number from the user\n",
    "number = int(input(\"Enter a number: \"))\n",
    "\n",
    "# Calculate factorial using the function\n",
    "fact = factorial(number)\n",
    "\n",
    "# Display the result\n",
    "print(\"Factorial of\", number, \"is\", fact)\n"
   ]
  },
  {
   "cell_type": "markdown",
   "id": "347af090",
   "metadata": {},
   "source": [
    "10. Write a Python program to check if a given number is a prime number using a for loop."
   ]
  },
  {
   "cell_type": "code",
   "execution_count": 11,
   "id": "940bbdbb",
   "metadata": {},
   "outputs": [
    {
     "name": "stdout",
     "output_type": "stream",
     "text": [
      "Enter a number: 5\n",
      "5 is a prime number.\n",
      "5 is a prime number.\n"
     ]
    }
   ],
   "source": [
    "def is_prime(num):\n",
    "    if num <= 1:\n",
    "        return False\n",
    "    for i in range(2, int(num ** 0.5) + 1):\n",
    "        if num % i == 0:\n",
    "            return False\n",
    "    return True\n",
    "\n",
    "# Input number from the user\n",
    "number = int(input(\"Enter a number: \"))\n",
    "\n",
    "# Check if the number is prime using the function\n",
    "if is_prime(number):\n",
    "    print(number, \"is a prime number.\")\n",
    "else:\n",
    "    print(number, \"is not a prime number.\")\n"
   ]
  },
  {
   "cell_type": "markdown",
   "id": "273b5c02",
   "metadata": {},
   "source": [
    "11.Python got drunk and the built-in functions str() and int() are acting odd:"
   ]
  },
  {
   "cell_type": "code",
   "execution_count": 1,
   "id": "d2b6edc2",
   "metadata": {},
   "outputs": [
    {
     "name": "stdout",
     "output_type": "stream",
     "text": [
      "1 drunk\n",
      "2 drunk\n",
      "3 drunk\n",
      "4 drunk\n",
      "5 drunk\n"
     ]
    }
   ],
   "source": [
    "def drunk_int(string_num):\n",
    "    digits_sum = sum(int(digit) for digit in string_num if digit.isdigit())\n",
    "    return str(digits_sum) + \" drunk\"\n",
    "\n",
    "# Let's calculate the sum of digits for numbers from 1 to 5 using the drunk_int function.\n",
    "for i in range(1, 6):\n",
    "    string_num = str(i)\n",
    "    print(drunk_int(string_num))\n"
   ]
  },
  {
   "cell_type": "markdown",
   "id": "b9d6905b",
   "metadata": {},
   "source": [
    "12.Write a function that mimics (without the use of >>) the right shift operator and returns the result from the two given integers.\n",
    "\n",
    "Examples\n",
    "shift_to_right(80, 3) ➞ 10\n",
    "\n",
    "shift_to_right(-24, 2) ➞ -6\n",
    "\n",
    "shift_to_right(-5, 1) ➞ -3\n",
    "\n",
    "shift_to_right(4666, 6) ➞ 72\n",
    "\n",
    "shift_to_right(3777, 6) ➞ 59\n",
    "\n",
    "shift_to_right(-512, 10) ➞ -1\n"
   ]
  },
  {
   "cell_type": "code",
   "execution_count": 2,
   "id": "9bebef98",
   "metadata": {},
   "outputs": [
    {
     "name": "stdout",
     "output_type": "stream",
     "text": [
      "Result 1: 4\n",
      "Result 2: 256\n"
     ]
    }
   ],
   "source": [
    "def right_shift_mimic(num, shift_amount):\n",
    "    # If the shift amount is negative, perform left shift instead (multiply by 2).\n",
    "    if shift_amount < 0:\n",
    "        for _ in range(abs(shift_amount)):\n",
    "            num *= 2\n",
    "    else:\n",
    "        for _ in range(shift_amount):\n",
    "            num //= 2\n",
    "\n",
    "    return num\n",
    "\n",
    "\n",
    "num1 = 16\n",
    "shift_amount1 = 2\n",
    "result1 = right_shift_mimic(num1, shift_amount1)\n",
    "print(f\"Result 1: {result1}\")  \n",
    "\n",
    "num2 = 32\n",
    "shift_amount2 = -3\n",
    "result2 = right_shift_mimic(num2, shift_amount2)\n",
    "print(f\"Result 2: {result2}\")  \n"
   ]
  },
  {
   "cell_type": "markdown",
   "id": "9461b1ed",
   "metadata": {},
   "source": [
    "13.Create a function that finds the highest integer in the list using recursion.\n",
    "\n",
    "Examples\n",
    "find_highest([-1, 3, 5, 6, 99, 12, 2]) ➞ 99\n",
    "\n",
    "find_highest([0, 12, 4, 87]) ➞ 87\n",
    "\n",
    "find_highest([8]) ➞ 8"
   ]
  },
  {
   "cell_type": "code",
   "execution_count": 3,
   "id": "829c417c",
   "metadata": {},
   "outputs": [
    {
     "name": "stdout",
     "output_type": "stream",
     "text": [
      "99\n",
      "87\n",
      "8\n"
     ]
    }
   ],
   "source": [
    "def find_highest(lst):\n",
    "    if len(lst) == 1:\n",
    "        return lst[0]\n",
    "    else:\n",
    "        # Compare the first element with the highest element of the rest of the list\n",
    "        return max(lst[0], find_highest(lst[1:]))\n",
    "\n",
    "\n",
    "print(find_highest([-1, 3, 5, 6, 99, 12, 2]))  \n",
    "print(find_highest([0, 12, 4, 87]))           \n",
    "print(find_highest([8]))                      \n"
   ]
  },
  {
   "cell_type": "markdown",
   "id": "b24b3541",
   "metadata": {},
   "source": [
    "14.Create a function that takes a number num and returns its length.\n",
    "\n",
    "Examples\n",
    "number_length(10) ➞ 2\n",
    "\n",
    "number_length(5000) ➞ 4\n",
    "\n",
    "number_length(0) ➞ 1"
   ]
  },
  {
   "cell_type": "code",
   "execution_count": 1,
   "id": "ccfd544c",
   "metadata": {},
   "outputs": [
    {
     "name": "stdout",
     "output_type": "stream",
     "text": [
      "2\n",
      "4\n",
      "1\n",
      "5\n"
     ]
    }
   ],
   "source": [
    "def number_length(num):\n",
    "    if num == 0:\n",
    "        return 1\n",
    "\n",
    "    length = 0\n",
    "    num_str = str(abs(num))\n",
    "\n",
    "    for digit in num_str:\n",
    "        length += 1\n",
    "\n",
    "    return length\n",
    "\n",
    "\n",
    "print(number_length(10))    \n",
    "print(number_length(5000))  \n",
    "print(number_length(0))    \n",
    "print(number_length(-12345))  \n"
   ]
  },
  {
   "cell_type": "markdown",
   "id": "43ac5516",
   "metadata": {},
   "source": [
    "15.Create a function that takes a dictionary of objects like { \"name\": \"John\", \"notes\": [3, 5, 4] } and returns a dictionary of objects like { \"name\": \"John\", \"top_note\": 5 }.\n",
    "\n",
    "Examples\n",
    "top_note({ \"name\": \"John\", \"notes\": [3, 5, 4] }) ➞ { \"name\": \"John\", \"top_note\": 5 }\n",
    "\n",
    "top_note({ \"name\": \"Max\", \"notes\": [1, 4, 6] }) ➞ { \"name\": \"Max\", \"top_note\": 6 }\n",
    "\n",
    "top_note({ \"name\": \"Zygmund\", \"notes\": [1, 2, 3] }) ➞ { \"name\": \"Zygmund\", \"top_note\"3}"
   ]
  },
  {
   "cell_type": "code",
   "execution_count": 2,
   "id": "3897e0bb",
   "metadata": {},
   "outputs": [
    {
     "name": "stdout",
     "output_type": "stream",
     "text": [
      "{'name': 'John', 'top_note': 5}\n",
      "{'name': 'Max', 'top_note': 6}\n",
      "{'name': 'Zygmund', 'top_note': 3}\n"
     ]
    }
   ],
   "source": [
    "def top_note(data_dict):\n",
    "    name = data_dict[\"name\"]\n",
    "    notes = data_dict[\"notes\"]\n",
    "    top_note = max(notes)\n",
    "    result_dict = {\"name\": name, \"top_note\": top_note}\n",
    "    return result_dict\n",
    "\n",
    "\n",
    "print(top_note({ \"name\": \"John\", \"notes\": [3, 5, 4] }))     \n",
    "print(top_note({ \"name\": \"Max\", \"notes\": [1, 4, 6] }))      \n",
    "print(top_note({ \"name\": \"Zygmund\", \"notes\": [1, 2, 3] }))  \n"
   ]
  },
  {
   "cell_type": "markdown",
   "id": "7e25e72c",
   "metadata": {},
   "source": [
    "16.You are given two numbers a and b. Create a function that returns the next number greater than a and b and divisible by b.\n",
    "\n",
    "Examples\n",
    "divisible_by_b(17, 8) ➞ 24\n",
    "\n",
    "divisible_by_b(98, 3) ➞ 99\n",
    "\n",
    "divisible_by_b(14, 11) ➞ 22"
   ]
  },
  {
   "cell_type": "code",
   "execution_count": 3,
   "id": "9e1857f6",
   "metadata": {},
   "outputs": [
    {
     "name": "stdout",
     "output_type": "stream",
     "text": [
      "24\n",
      "99\n",
      "22\n"
     ]
    }
   ],
   "source": [
    "def divisible_by_b(a, b):\n",
    "    num = a + 1\n",
    "    while num % b != 0:\n",
    "        num += 1\n",
    "    return num\n",
    "\n",
    "\n",
    "print(divisible_by_b(17, 8))  \n",
    "print(divisible_by_b(98, 3)) \n",
    "print(divisible_by_b(14, 11)) \n"
   ]
  },
  {
   "cell_type": "markdown",
   "id": "bb3af447",
   "metadata": {},
   "source": [
    "17.Create a function that converts a date formatted as MM/DD/YYYY to YYYYDDMM.\n",
    "\n",
    "Examples\n",
    "format_date(\"11/12/2019\") ➞ \"20191211\"\n",
    "\n",
    "format_date(\"12/31/2019\") ➞ \"20193112\"\n",
    "\n",
    "format_date(\"01/15/2019\") ➞ \"20191501\""
   ]
  },
  {
   "cell_type": "code",
   "execution_count": 4,
   "id": "3fc1b78e",
   "metadata": {},
   "outputs": [
    {
     "name": "stdout",
     "output_type": "stream",
     "text": [
      "20191211\n",
      "20193112\n",
      "20191501\n"
     ]
    }
   ],
   "source": [
    "def format_date(date_str):\n",
    "    # Split the date into parts using the '/' separator\n",
    "    month, day, year = date_str.split('/')\n",
    "\n",
    "    # Rearrange the parts to form the desired format\n",
    "    formatted_date = year + day + month\n",
    "\n",
    "    return formatted_date\n",
    "\n",
    "\n",
    "print(format_date(\"11/12/2019\")) \n",
    "print(format_date(\"12/31/2019\"))\n",
    "print(format_date(\"01/15/2019\"))\n"
   ]
  },
  {
   "cell_type": "markdown",
   "id": "1cc5eaa8",
   "metadata": {},
   "source": [
    "18.Create methods for the Calculator class that can do the following:\n",
    "\n",
    "Add two numbers.\n",
    "Subtract two numbers.\n",
    "Multiply two numbers.\n",
    "Divide two numbers.\n",
    "Examples\n",
    "calculator = Calculator()\n",
    "\n",
    "calculator.add(10, 5) ➞ 15\n",
    "\n",
    "calculator.subtract(10, 5) ➞ 5\n",
    "\n",
    "calculator.multiply(10, 5) ➞ 50\n",
    "\n",
    "calculator.divide(10, 5) ➞ 2"
   ]
  },
  {
   "cell_type": "code",
   "execution_count": 5,
   "id": "024b2d41",
   "metadata": {},
   "outputs": [
    {
     "name": "stdout",
     "output_type": "stream",
     "text": [
      "15\n",
      "5\n",
      "50\n",
      "2.0\n"
     ]
    }
   ],
   "source": [
    "class Calculator:\n",
    "    def add(self, a, b):\n",
    "        return a + b\n",
    "\n",
    "    def subtract(self, a, b):\n",
    "        return a - b\n",
    "\n",
    "    def multiply(self, a, b):\n",
    "        return a * b\n",
    "\n",
    "    def divide(self, a, b):\n",
    "        if b != 0:\n",
    "            return a / b\n",
    "        else:\n",
    "            raise ValueError(\"Division by zero is not allowed.\")\n",
    "\n",
    "\n",
    "calculator = Calculator()\n",
    "\n",
    "print(calculator.add(10, 5))     \n",
    "print(calculator.subtract(10, 5))\n",
    "print(calculator.multiply(10, 5)) \n",
    "print(calculator.divide(10, 5))   \n"
   ]
  },
  {
   "cell_type": "markdown",
   "id": "c62aebdd",
   "metadata": {},
   "source": [
    "19.For each challenge of this series you do not need to submit a function. Instead, you need to submit a template string that can formatted in order to get a certain outcome.\n",
    "\n",
    "Write a template string according to the following example. Notice that the template will be formatted twice:\n",
    "\n",
    "##Example.\n",
    "a = \"John\"\n",
    "b = \"Joe\"\n",
    "template = \"yourtemplatestringhere\"\n",
    "\n",
    "template.format(1).format(a, b) ➞ \"My best friend is Joe.\""
   ]
  },
  {
   "cell_type": "code",
   "execution_count": 6,
   "id": "f6a31015",
   "metadata": {},
   "outputs": [
    {
     "name": "stdout",
     "output_type": "stream",
     "text": [
      "My best friend is John.\n"
     ]
    }
   ],
   "source": [
    "template = \"My best friend is {}.\"\n",
    "a = \"John\"\n",
    "b = \"Joe\"\n",
    "result = template.format(a).format(b)\n",
    "print(result)\n"
   ]
  },
  {
   "cell_type": "markdown",
   "id": "02ba3a3a",
   "metadata": {},
   "source": [
    " 20.Create a function that will take a HEX number and returns the binary equivalent (as a string).\n",
    "\n",
    "Examples\n",
    "to_binary(0xFF) ➞ \"11111111\"\n",
    "\n",
    "to_binary(0xAA) ➞ \"10101010\"\n",
    "\n",
    "to_binary(0xFA) ➞ \"11111010\""
   ]
  },
  {
   "cell_type": "code",
   "execution_count": 19,
   "id": "5970c765",
   "metadata": {},
   "outputs": [
    {
     "name": "stdout",
     "output_type": "stream",
     "text": [
      "11111111\n",
      "10101010\n",
      "11111010\n"
     ]
    }
   ],
   "source": [
    "def to_binary(hex_num):\n",
    "    binary_str = bin(hex_num)[2:]  # Remove the '0b' prefix from the binary string\n",
    "    return binary_str\n",
    "\n",
    "print(to_binary(0xFF))  \n",
    "print(to_binary(0xAA)) \n",
    "print(to_binary(0xFA)) "
   ]
  },
  {
   "cell_type": "markdown",
   "id": "f41bf2fb",
   "metadata": {},
   "source": [
    "21.Write a function that transforms a list of characters into a list of dictionaries, where:\n",
    "\n",
    "The keys are the characters themselves.\n",
    "The values are the ASCII codes of those characters.\n",
    "Examples\n",
    "to_dict([\"a\", \"b\", \"c\"]) ➞ [{\"a\": 97}, {\"b\": 98}, {\"c\": 99}]\n",
    "\n",
    "to_dict([\"^\"]) ➞ [{\"^\": 94}]\n",
    "\n",
    "to_dict([]) ➞ []"
   ]
  },
  {
   "cell_type": "code",
   "execution_count": 23,
   "id": "cec483c7",
   "metadata": {},
   "outputs": [
    {
     "name": "stdout",
     "output_type": "stream",
     "text": [
      "[{'a': 97}, {'b': 98}, {'c': 99}]\n",
      "[{'^': 94}]\n",
      "[]\n"
     ]
    }
   ],
   "source": [
    "def to_dict(char_list):\n",
    "    result = []\n",
    "    for char in char_list:\n",
    "        char_ascii = ord(char)  # Get the ASCII code of the character\n",
    "        char_dict = {char: char_ascii}  # Create a dictionary with the character as the key and ASCII code as the value\n",
    "        result.append(char_dict)  # Append the dictionary to the result list\n",
    "    return result\n",
    "\n",
    "\n",
    "print(to_dict([\"a\", \"b\", \"c\"]))  \n",
    "print(to_dict([\"^\"]))            \n",
    "print(to_dict([]))              \n"
   ]
  },
  {
   "cell_type": "markdown",
   "id": "312e135b",
   "metadata": {},
   "source": [
    "22.reate a class that takes the following four arguments for a particular football player:\n",
    "\n",
    "*name\n",
    " *age\n",
    "*height\n",
    "*weight\n",
    "Also, create three functions for the class that returns the following strings:\n",
    "\n",
    "get_age() returns \"name is age age\"\n",
    "get_height() returns \"name is heightcm\"\n",
    "get_weight() returns \"name weighs weightkg\"\n",
    "Examples\n",
    " p1 = player(\"David Jones\", 25, 175, 75)\n",
    "\n",
    " p1.get_age() ➞ \"David Jones is age 25\"\n",
    " p1.get_height() ➞ \"David Jones is 175cm\"\n",
    " p1.get_weight() ➞ \"David Jones weighs 75kg\""
   ]
  },
  {
   "cell_type": "code",
   "execution_count": 24,
   "id": "152d0e88",
   "metadata": {},
   "outputs": [
    {
     "name": "stdout",
     "output_type": "stream",
     "text": [
      "David Jones is age 25\n",
      "David Jones is 175cm\n",
      "David Jones weighs 75kg\n"
     ]
    }
   ],
   "source": [
    "class Player:\n",
    "    def __init__(self, name, age, height, weight):\n",
    "        self.name = name\n",
    "        self.age = age\n",
    "        self.height = height\n",
    "        self.weight = weight\n",
    "\n",
    "    def get_age(self):\n",
    "        return f\"{self.name} is age {self.age}\"\n",
    "\n",
    "    def get_height(self):\n",
    "        return f\"{self.name} is {self.height}cm\"\n",
    "\n",
    "    def get_weight(self):\n",
    "        return f\"{self.name} weighs {self.weight}kg\"\n",
    "\n",
    "\n",
    "p1 = Player(\"David Jones\", 25, 175, 75)\n",
    "\n",
    "print(p1.get_age())    \n",
    "print(p1.get_height()) \n",
    "print(p1.get_weight()) \n"
   ]
  },
  {
   "cell_type": "markdown",
   "id": "c2aca87f",
   "metadata": {},
   "source": [
    "23.Given an int, figure out how many ones, threes and nines you could fit into the number. You must create a class. You will make variables (self.ones, self.threes, self.nines) to do this.\n",
    "\n",
    "Examples\n",
    "n1 = ones_threes_nines(5)\n",
    "n1.nines ➞ 0\n",
    "\n",
    "n1.ones ➞ 5\n",
    "\n",
    "n1.threes ➞ 1"
   ]
  },
  {
   "cell_type": "code",
   "execution_count": 25,
   "id": "7f0b91be",
   "metadata": {},
   "outputs": [
    {
     "name": "stdout",
     "output_type": "stream",
     "text": [
      "0\n",
      "5\n",
      "1\n"
     ]
    }
   ],
   "source": [
    "class OnesThreesNines:\n",
    "    def __init__(self, num):\n",
    "        self.ones = num // 1\n",
    "        self.threes = num // 3\n",
    "        self.nines = num // 9\n",
    "\n",
    "\n",
    "n1 = OnesThreesNines(5)\n",
    "print(n1.nines)  \n",
    "print(n1.ones)   \n",
    "print(n1.threes)  \n"
   ]
  },
  {
   "cell_type": "markdown",
   "id": "0b0d9850",
   "metadata": {},
   "source": [
    "24.Create the instance attributes fullname and email in the Employee class. Given a person's first and last names:\n",
    "\n",
    "Form the fullname by simply joining the first and last name together, separated by a space.\n",
    "Form the email by joining the first and last name together with a . in between, and follow it with @company.com at the end. Make sure the entire email is in lowercase.\n",
    "Examples\n",
    "emp_1 = Employee(\"John\", \"Smith\")\n",
    "emp_2 = Employee(\"Mary\",  \"Sue\")\n",
    "emp_3 = Employee(\"Antony\", \"Walker\")\n",
    "emp_1.fullname ➞ \"John Smith\"\n",
    "\n",
    "emp_2.email ➞ \"mary.sue@company.com\"\n",
    "\n",
    "emp_3.firstname ➞ \"Antony\""
   ]
  },
  {
   "cell_type": "code",
   "execution_count": 26,
   "id": "6d18ad4b",
   "metadata": {},
   "outputs": [
    {
     "name": "stdout",
     "output_type": "stream",
     "text": [
      "John Smith\n",
      "mary.sue@company.com\n",
      "Antony\n"
     ]
    }
   ],
   "source": [
    "class Employee:\n",
    "    def __init__(self, first_name, last_name):\n",
    "        self.fullname = first_name + \" \" + last_name\n",
    "        self.email = (first_name + \".\" + last_name + \"@company.com\").lower()\n",
    "        self.firstname = first_name\n",
    "\n",
    "# Test the Employee class\n",
    "emp_1 = Employee(\"John\", \"Smith\")\n",
    "emp_2 = Employee(\"Mary\", \"Sue\")\n",
    "emp_3 = Employee(\"Antony\", \"Walker\")\n",
    "\n",
    "print(emp_1.fullname)  \n",
    "print(emp_2.email)      \n",
    "print(emp_3.firstname)  \n"
   ]
  },
  {
   "cell_type": "markdown",
   "id": "45c2d5c3",
   "metadata": {},
   "source": [
    "25.Create a function to find only the root value of x in any quadratic equation ax^2 + bx + c. The function will take three arguments:\n",
    "\n",
    "a as the coefficient of x^2\n",
    "b as the coefficient of x\n",
    "c as the constant term\n",
    "Examples\n",
    "quadratic_equation(1, 2, -3) ➞ 1\n",
    "\n",
    "quadratic_equation(2, -7, 3) ➞ 3\n",
    "\n",
    "quadratic_equation(1, -12, -28) ➞ 14"
   ]
  },
  {
   "cell_type": "code",
   "execution_count": 28,
   "id": "4bd7696b",
   "metadata": {},
   "outputs": [
    {
     "name": "stdout",
     "output_type": "stream",
     "text": [
      "1.0\n",
      "3.0\n",
      "14.0\n",
      "No real roots\n"
     ]
    }
   ],
   "source": [
    "\n",
    "def quadratic_equation(a, b, c):\n",
    "    discriminant = b**2 - 4*a*c\n",
    "    if discriminant < 0:\n",
    "        return \"No real roots\"\n",
    "    elif discriminant == 0:\n",
    "        return -b / (2*a)\n",
    "    else:\n",
    "        root = (-b + discriminant**0.5) / (2*a)\n",
    "        return root\n",
    "\n",
    "\n",
    "print(quadratic_equation(1, 2, -3))     \n",
    "print(quadratic_equation(2, -7, 3))    \n",
    "print(quadratic_equation(1, -12, -28)) \n",
    "print(quadratic_equation(1, 0, 1))      \n"
   ]
  },
  {
   "cell_type": "markdown",
   "id": "11bd0c63",
   "metadata": {},
   "source": [
    "26.Given two lines, determine whether or not they are parallel.\n",
    "\n",
    "Lines are represented by a list [a, b, c], which corresponds to the line ax+by=c.\n",
    "\n",
    "Examples\n",
    "lines_are_parallel([1, 2, 3], [1, 2, 4]) ➞ True\n",
    " x+2y=3 and x+2y=4 are parallel.\n",
    "\n",
    "lines_are_parallel([2, 4, 1], [4, 2, 1]) ➞ False\n",
    " 2x+4y=1 and 4x+2y=1 are not parallel.\n",
    "\n",
    "lines_are_parallel([0, 1, 5], [0, 1, 5]) ➞ True\n",
    " Lines are parallel to themselves."
   ]
  },
  {
   "cell_type": "code",
   "execution_count": 29,
   "id": "84e33b2f",
   "metadata": {},
   "outputs": [
    {
     "name": "stdout",
     "output_type": "stream",
     "text": [
      "True\n",
      "False\n",
      "True\n"
     ]
    }
   ],
   "source": [
    "def lines_are_parallel(line1, line2):\n",
    "    a1, b1, _ = line1\n",
    "    a2, b2, _ = line2\n",
    "\n",
    "    if b1 == 0:\n",
    "        slope1 = float('inf')  # Vertical line, slope is infinity\n",
    "    else:\n",
    "        slope1 = -a1 / b1\n",
    "\n",
    "    if b2 == 0:\n",
    "        slope2 = float('inf')  # Vertical line, slope is infinity\n",
    "    else:\n",
    "        slope2 = -a2 / b2\n",
    "\n",
    "    return slope1 == slope2\n",
    "\n",
    "\n",
    "print(lines_are_parallel([1, 2, 3], [1, 2, 4]))  \n",
    "print(lines_are_parallel([2, 4, 1], [4, 2, 1]))  \n",
    "print(lines_are_parallel([0, 1, 5], [0, 1, 5]))  \n"
   ]
  },
  {
   "cell_type": "markdown",
   "id": "3af2d565",
   "metadata": {},
   "source": [
    "27.Create a function that takes a list containing nested lists as an argument. Each sublist has 2 elements. The first element is the numerator and the second element is the denominator. Return the sum of the fractions rounded to the nearest whole number.\n",
    "\n",
    "Examples\n",
    "sum_fractions([[18, 13], [4, 5]]) ➞ 2\n",
    "\n",
    "sum_fractions([[36, 4], [22, 60]]) ➞ 9\n",
    "\n",
    "sum_fractions([[11, 2], [3, 4], [5, 4], [21, 11], [12, 6]]) ➞ 11"
   ]
  },
  {
   "cell_type": "code",
   "execution_count": 30,
   "id": "d914d32d",
   "metadata": {},
   "outputs": [
    {
     "name": "stdout",
     "output_type": "stream",
     "text": [
      "1\n",
      "1\n",
      "3\n"
     ]
    }
   ],
   "source": [
    "def gcd(a, b):\n",
    "    while b != 0:\n",
    "        a, b = b, a % b\n",
    "    return a\n",
    "\n",
    "def lcm(a, b):\n",
    "    return (a * b) // gcd(a, b)\n",
    "\n",
    "def sum_fractions(fractions):\n",
    "    total_numerator = 0\n",
    "    total_denominator = 1\n",
    "\n",
    "    for fraction in fractions:\n",
    "        numerator, denominator = fraction\n",
    "        total_denominator = lcm(total_denominator, denominator)\n",
    "        total_numerator += numerator * (total_denominator // denominator)\n",
    "\n",
    "    return round(total_numerator / total_denominator)\n",
    "\n",
    "\n",
    "print(sum_fractions([[18, 13], [4, 5]]))                      \n",
    "print(sum_fractions([[36, 4], [22, 60]]))                      \n",
    "print(sum_fractions([[11, 2], [3, 4], [5, 4], [21, 11], [12, 6]])) \n"
   ]
  },
  {
   "cell_type": "markdown",
   "id": "8e3e5972",
   "metadata": {},
   "source": [
    "28.Create a function to test if a string is a valid pin or not.\n",
    "\n",
    "A valid pin has:\n",
    "\n",
    "Exactly 4 or 6 characters.\n",
    "Only numerical characters (0-9).\n",
    "No whitespace.\n",
    "Examples\n",
    "valid(\"1234\") ➞ True\n",
    "\n",
    "valid(\"45135\") ➞ False\n",
    "\n",
    "valid(\"89abc1\") ➞ False\n",
    "\n",
    "valid(\"900876\") ➞ True\n",
    "\n",
    "valid(\" 4983\") ➞ False"
   ]
  },
  {
   "cell_type": "code",
   "execution_count": 31,
   "id": "b039f0b1",
   "metadata": {},
   "outputs": [
    {
     "name": "stdout",
     "output_type": "stream",
     "text": [
      "True\n",
      "False\n",
      "False\n",
      "True\n",
      "False\n"
     ]
    }
   ],
   "source": [
    "def valid(pin):\n",
    "    # Check if the pin has exactly 4 or 6 characters and only contains numerical characters\n",
    "    return len(pin) in (4, 6) and pin.isdigit()\n",
    "\n",
    "\n",
    "print(valid(\"1234\"))   \n",
    "print(valid(\"45135\"))  \n",
    "print(valid(\"89abc1\")) \n",
    "print(valid(\"900876\")) \n",
    "print(valid(\" 4983\"))  \n"
   ]
  },
  {
   "cell_type": "markdown",
   "id": "7460f0ad",
   "metadata": {},
   "source": [
    "29.def valid(pin):\n",
    "    # Check if the pin has exactly 4 or 6 characters and only contains numerical characters\n",
    "    return len(pin) in (4, 6) and pin.isdigit()\n",
    "\n",
    " Test cases\n",
    "print(valid(\"1234\"))    # Output: True\n",
    "print(valid(\"45135\"))   # Output: False\n",
    "print(valid(\"89abc1\"))  # Output: False\n",
    "print(valid(\"900876\"))  # Output: True\n",
    "print(valid(\" 4983\"))   # Output: False\n"
   ]
  },
  {
   "cell_type": "code",
   "execution_count": 33,
   "id": "7994f525",
   "metadata": {},
   "outputs": [
    {
     "name": "stdout",
     "output_type": "stream",
     "text": [
      "True\n",
      "False\n",
      "False\n",
      "True\n",
      "False\n"
     ]
    }
   ],
   "source": [
    "\n",
    "print(valid(\"1234\"))    \n",
    "print(valid(\"45135\"))   \n",
    "print(valid(\"89abc1\"))  \n",
    "print(valid(\"900876\")) \n",
    "print(valid(\" 4983\")) "
   ]
  },
  {
   "cell_type": "markdown",
   "id": "017a0233",
   "metadata": {},
   "source": [
    "30.Given an input string, reverse the string word by word.\n",
    "\n",
    "Examples\n",
    "reverse_words(\"the sky is blue\") ➞ \"blue is sky the\"\n",
    "\n",
    "reverse_words(\"  hello world!  \") ➞ \"world! hello\"\n",
    "\n",
    "reverse_words(\"a good   example\") ➞ \"example good a\""
   ]
  },
  {
   "cell_type": "code",
   "execution_count": 34,
   "id": "a60c2643",
   "metadata": {},
   "outputs": [
    {
     "name": "stdout",
     "output_type": "stream",
     "text": [
      "blue is sky the\n",
      "world! hello\n",
      "example good a\n"
     ]
    }
   ],
   "source": [
    "def reverse_words(input_str):\n",
    "    words = input_str.split()\n",
    "    reversed_str = \" \".join(words[::-1])\n",
    "    return reversed_str\n",
    "\n",
    "print(reverse_words(\"the sky is blue\"))       \n",
    "print(reverse_words(\"  hello world!  \"))     \n",
    "print(reverse_words(\"a good   example\"))     "
   ]
  },
  {
   "cell_type": "markdown",
   "id": "3235f567",
   "metadata": {},
   "source": [
    "31.Create a function that returns the sum of missing numbers from the given list.\n",
    "\n",
    "Examples\n",
    "sum_missing_numbers([4, 3, 8, 1, 2]) ➞ 18\n",
    " 5 + 6 + 7 = 18\n",
    "\n",
    "sum_missing_numbers([17, 16, 15, 10, 11, 12]) ➞ 27\n",
    "13 + 14 = 27\n",
    "\n",
    "sum_missing_numbers([1, 2, 3, 4, 5]) ➞ 0\n",
    " No Missing Numbers (i.e. all numbers in [1, 5] are present in the list)"
   ]
  },
  {
   "cell_type": "code",
   "execution_count": 35,
   "id": "7f3b394a",
   "metadata": {},
   "outputs": [
    {
     "name": "stdout",
     "output_type": "stream",
     "text": [
      "18\n",
      "27\n",
      "0\n"
     ]
    }
   ],
   "source": [
    "def sum_missing_numbers(lst):\n",
    "    min_num = min(lst)\n",
    "    max_num = max(lst)\n",
    "    missing_sum = 0\n",
    "\n",
    "    for num in range(min_num, max_num):\n",
    "        if num not in lst:\n",
    "            missing_sum += num\n",
    "\n",
    "    return missing_sum\n",
    "\n",
    "\n",
    "print(sum_missing_numbers([4, 3, 8, 1, 2]))          \n",
    "print(sum_missing_numbers([17, 16, 15, 10, 11, 12]))\n",
    "print(sum_missing_numbers([1, 2, 3, 4, 5]))         \n"
   ]
  },
  {
   "cell_type": "markdown",
   "id": "d620dbe2",
   "metadata": {},
   "source": [
    "32.Create a function that returns the number of times a character appears in each word in a sentence. Treat upper and lower case characters of the same letter as being identical (e.g. a exists in Anna twice, not once).\n",
    "\n",
    "Examples\n",
    "char_appears(\"She sells sea shells by the seashore.\", \"s\")\n",
    "➞ [1, 2, 1, 2, 0, 0, 2]\n",
    "\"s\" shows up once in \"She\", twice in \"sells\", once in \"sea\", twice in \"shells\", etc.\n",
    "\n",
    "char_appears(\"Peter Piper picked a peck of pickled peppers.\", \"P\")\n",
    "➞ [1, 2, 1, 0, 1, 0, 1, 3]\n",
    " \"p\" shows up once in \"Peter\", ... 3 times in \"peppers\".\n",
    "\n",
    "char_appears(\"She hiked in the morning, then swam in the river.\", \"t\")\n",
    "➞ [0, 0, 0, 1, 0, 1, 0, 0, 1, 0]"
   ]
  },
  {
   "cell_type": "code",
   "execution_count": 36,
   "id": "ceccf563",
   "metadata": {},
   "outputs": [
    {
     "name": "stdout",
     "output_type": "stream",
     "text": [
      "[1, 2, 1, 2, 0, 0, 2]\n",
      "[1, 2, 1, 0, 1, 0, 1, 3]\n",
      "[0, 0, 0, 1, 0, 1, 0, 0, 1, 0]\n"
     ]
    }
   ],
   "source": [
    "def char_appears(sentence, char):\n",
    "    char_count_list = []\n",
    "\n",
    "    words = sentence.split()\n",
    "    char_lower = char.lower()  # Convert the character to lowercase for case-insensitive matching\n",
    "\n",
    "    for word in words:\n",
    "        char_count = word.lower().count(char_lower)\n",
    "        char_count_list.append(char_count)\n",
    "\n",
    "    return char_count_list\n",
    "\n",
    "\n",
    "print(char_appears(\"She sells sea shells by the seashore.\", \"s\"))     \n",
    "print(char_appears(\"Peter Piper picked a peck of pickled peppers.\", \"P\")) \n",
    "print(char_appears(\"She hiked in the morning, then swam in the river.\", \"t\"))"
   ]
  },
  {
   "cell_type": "markdown",
   "id": "3ccb49e0",
   "metadata": {},
   "source": [
    "33.Create a function that returns the amount of duplicate characters in a string. It will be case sensitive and spaces are included. If there are no duplicates, return 0.\n",
    "\n",
    "Examples\n",
    "duplicates(\"Hello World!\") ➞ 3\n",
    "#\"o\" = 2, \"l\" = 3.\n",
    " \"o\" is duplicated 1 extra time and \"l\" is duplicated 2 extra times.\n",
    "#Hence 1 + 2 = 3\n",
    "\n",
    "duplicates(\"foobar\") ➞ 1\n",
    "\n",
    "duplicates(\"helicopter\") ➞ 1\n",
    "\n",
    "duplicates(\"birthday\") ➞ 0\n",
    " If there are no duplicates, return 0"
   ]
  },
  {
   "cell_type": "code",
   "execution_count": 37,
   "id": "25963499",
   "metadata": {},
   "outputs": [
    {
     "name": "stdout",
     "output_type": "stream",
     "text": [
      "2\n",
      "1\n",
      "1\n",
      "0\n"
     ]
    }
   ],
   "source": [
    "def duplicates(s):\n",
    "    char_count = {}\n",
    "    for char in s:\n",
    "        if char in char_count:\n",
    "            char_count[char] += 1\n",
    "        else:\n",
    "            char_count[char] = 1\n",
    "\n",
    "    duplicate_count = sum(1 for count in char_count.values() if count > 1)\n",
    "    return duplicate_count\n",
    "\n",
    "\n",
    "print(duplicates(\"Hello World!\"))   \n",
    "print(duplicates(\"foobar\"))        \n",
    "print(duplicates(\"helicopter\"))    \n",
    "print(duplicates(\"birthday\"))       \n"
   ]
  },
  {
   "cell_type": "markdown",
   "id": "4f0c6d05",
   "metadata": {},
   "source": [
    "34.Given two strings, return a string containing only the letters shared between the two.\n",
    "\n",
    "Examples\n",
    "shared_letters(\"house\", \"home\") ➞ \"eho\"\n",
    "\n",
    "shared_letters(\"Micky\", \"mouse\") ➞ \"m\"\n",
    "\n",
    "shared_letters(\"house\", \"villa\") ➞ \"\""
   ]
  },
  {
   "cell_type": "code",
   "execution_count": 38,
   "id": "5ac7f58f",
   "metadata": {},
   "outputs": [
    {
     "name": "stdout",
     "output_type": "stream",
     "text": [
      "eho\n",
      "\n",
      "\n"
     ]
    }
   ],
   "source": [
    "def shared_letters(str1, str2):\n",
    "    set1 = set(str1)\n",
    "    set2 = set(str2)\n",
    "    shared_set = set1 & set2\n",
    "    shared_str = \"\".join(sorted(shared_set))\n",
    "    return shared_str\n",
    "\n",
    "\n",
    "print(shared_letters(\"house\", \"home\"))   \n",
    "print(shared_letters(\"Micky\", \"mouse\"))  \n",
    "print(shared_letters(\"house\", \"villa\"))  \n"
   ]
  },
  {
   "cell_type": "markdown",
   "id": "c8498977",
   "metadata": {},
   "source": [
    "35.Create a function that takes a string and returns True if the sum of the position of every letter in the alphabet is even and False if the sum is odd.\n",
    "\n",
    "Examples\n",
    "is_alpha(\"i'am king\")  ➞ True\n",
    "9 + 1 + 13 + 11 + 9 + 14 + 7 = 64 (even)\n",
    "\n",
    "is_alpha(\"True\") ➞ True\n",
    "20 + 18 + 21 + 5= 64 (even)\n",
    "\n",
    "is_alpha(\"alexa\") ➞ False\n",
    " 1 + 12 + 5 + 24 + 1= 43 (odd)"
   ]
  },
  {
   "cell_type": "code",
   "execution_count": 39,
   "id": "38d900a9",
   "metadata": {},
   "outputs": [
    {
     "name": "stdout",
     "output_type": "stream",
     "text": [
      "True\n",
      "True\n",
      "False\n"
     ]
    }
   ],
   "source": [
    "def get_alphabet_position(letter):\n",
    "    alphabet = 'abcdefghijklmnopqrstuvwxyz'\n",
    "    return alphabet.index(letter.lower()) + 1\n",
    "\n",
    "def is_alpha(s):\n",
    "    alphabet_sum = sum(get_alphabet_position(char) for char in s if char.isalpha())\n",
    "    return alphabet_sum % 2 == 0\n",
    "\n",
    "\n",
    "print(is_alpha(\"i'am king\"))  \n",
    "print(is_alpha(\"True\"))       \n",
    "print(is_alpha(\"alexa\"))      "
   ]
  },
  {
   "cell_type": "markdown",
   "id": "2e5214c2",
   "metadata": {},
   "source": [
    "36.Write a function that converts a dictionary into a list, where each element represents a key-value pair in the form of a list. Sort the list alphabetically by key.\n",
    "\n",
    "Examples\n",
    "to_list({ \"a\": 1, \"b\": 2 }) ➞ [[\"a\", 1], [\"b\", 2]]\n",
    "\n",
    "to_list({ \"shrimp\": 15, \"tots\": 12 }) ➞ [[\"shrimp\", 15], [\"tots\", 12]]\n",
    "\n",
    "to_list({}) ➞ []"
   ]
  },
  {
   "cell_type": "code",
   "execution_count": 1,
   "id": "e3c0d0ac",
   "metadata": {},
   "outputs": [
    {
     "name": "stdout",
     "output_type": "stream",
     "text": [
      "[['a', 1], ['b', 2]]\n",
      "[['shrimp', 15], ['tots', 12]]\n",
      "[]\n"
     ]
    }
   ],
   "source": [
    "def to_list(dictionary):\n",
    "    # Convert the dictionary items into a list of lists\n",
    "    items_list = [[key, value] for key, value in dictionary.items()]\n",
    "\n",
    "    # Sort the list alphabetically by the keys\n",
    "    items_list.sort(key=lambda x: x[0])\n",
    "\n",
    "    return items_list\n",
    "\n",
    "\n",
    "print(to_list({ \"a\": 1, \"b\": 2 })) \n",
    "print(to_list({ \"shrimp\": 15, \"tots\": 12 }))  \n",
    "print(to_list({})) "
   ]
  },
  {
   "cell_type": "markdown",
   "id": "8d641c6b",
   "metadata": {},
   "source": [
    "37.Write a function that takes a string, and returns a new string with any duplicate consecutive letters removed.\n",
    "\n",
    "Examples\n",
    "unstretch(\"ppoeemm\") ➞ \"poem\"\n",
    "\n",
    "unstretch(\"wiiiinnnnd\") ➞ \"wind\"\n",
    "\n",
    "unstretch(\"ttiiitllleeee\") ➞ \"title\"\n",
    "\n",
    "unstretch(\"cccccaaarrrbbonnnnn\") ➞ \"carbon\""
   ]
  },
  {
   "cell_type": "code",
   "execution_count": 2,
   "id": "db89bfaf",
   "metadata": {},
   "outputs": [
    {
     "name": "stdout",
     "output_type": "stream",
     "text": [
      "poem\n",
      "wind\n",
      "title\n",
      "carbon\n"
     ]
    }
   ],
   "source": [
    "def unstretch(s):\n",
    "    # Initialize an empty string to store the result\n",
    "    result = ''\n",
    "\n",
    "    # Iterate through the characters in the input string\n",
    "    for i in range(len(s)):\n",
    "        # Check if the current character is the first character in the string\n",
    "        # or if it is different from the previous character\n",
    "        if i == 0 or s[i] != s[i - 1]:\n",
    "            # If the condition is met, add the character to the result string\n",
    "            result += s[i]\n",
    "\n",
    "    return result\n",
    "\n",
    "\n",
    "print(unstretch(\"ppoeemm\"))  \n",
    "print(unstretch(\"wiiiinnnnd\"))  \n",
    "print(unstretch(\"ttiiitllleeee\"))  \n",
    "print(unstretch(\"cccccaaarrrbbonnnnn\"))  \n"
   ]
  },
  {
   "cell_type": "markdown",
   "id": "c5c86c12",
   "metadata": {},
   "source": [
    "38.Create a function that takes the number of daily average recovered cases recovers, daily average newCases, current activeCases, and returns the number of days it will take to reach zero cases.\n",
    "\n",
    "Examples\n",
    "endCorona(4000, 2000, 77000) ➞ 39\n",
    "\n",
    "endCorona(3000, 2000, 50699) ➞ 51\n",
    "\n",
    "endCorona(30000, 25000, 390205) ➞ 79"
   ]
  },
  {
   "cell_type": "code",
   "execution_count": 31,
   "id": "dc501e65",
   "metadata": {},
   "outputs": [
    {
     "name": "stdout",
     "output_type": "stream",
     "text": [
      "39\n",
      "51\n",
      "79\n"
     ]
    }
   ],
   "source": [
    "def endCorona(recovers, newCases, activeCases):\n",
    "    # Initialize the number of days to zero\n",
    "    days = 0\n",
    "\n",
    "    # Continue the loop until the activeCases become zero\n",
    "    while activeCases > 0:\n",
    "        # Calculate the net change in active cases for the current day\n",
    "        activeCases = max(activeCases - recovers + newCases, 0)\n",
    "\n",
    "        # Increment the number of days\n",
    "        days += 1\n",
    "\n",
    "    return days\n",
    "\n",
    "\n",
    "print(endCorona(4000, 2000, 77000))  \n",
    "print(endCorona(3000, 2000, 50699))  \n",
    "print(endCorona(30000, 25000, 390205)) \n"
   ]
  },
  {
   "cell_type": "markdown",
   "id": "5b3475ca",
   "metadata": {},
   "source": [
    "39.Create a function that takes a list and a string as arguments and returns the index of the string.\n",
    "\n",
    "Examples\n",
    "find_index([\"hi\", \"edabit\", \"fgh\", \"abc\"], \"fgh\") ➞ 2\n",
    "\n",
    "find_index([\"Red\", \"blue\", \"Blue\", \"Green\"], \"blue\") ➞ 1\n",
    "\n",
    "find_index([\"a\", \"g\", \"y\", \"d\"], \"d\") ➞ 3\n",
    "\n",
    "find_index([\"Pineapple\", \"Orange\", \"Grape\", \"Apple\"], \"Pineapple\") ➞ 0"
   ]
  },
  {
   "cell_type": "code",
   "execution_count": 34,
   "id": "95b0f3de",
   "metadata": {},
   "outputs": [
    {
     "name": "stdout",
     "output_type": "stream",
     "text": [
      "2\n",
      "1\n",
      "3\n",
      "0\n"
     ]
    }
   ],
   "source": [
    "def find_index(lst, target):\n",
    "    # Iterate through the list using a for loop\n",
    "    for i in range(len(lst)):\n",
    "        # If the current element matches the target string, return the index\n",
    "        if lst[i] == target:\n",
    "            return i\n",
    "\n",
    "    # If the target string is not found, return -1\n",
    "    return -1\n",
    "\n",
    "\n",
    "print(find_index([\"hi\", \"edabit\", \"fgh\", \"abc\"], \"fgh\"))  \n",
    "print(find_index([\"Red\", \"blue\", \"Blue\", \"Green\"], \"blue\")) \n",
    "print(find_index([\"a\", \"g\", \"y\", \"d\"], \"d\")) \n",
    "print(find_index([\"Pineapple\", \"Orange\", \"Grape\", \"Apple\"], \"Pineapple\")) "
   ]
  },
  {
   "cell_type": "markdown",
   "id": "ba17d3ae",
   "metadata": {},
   "source": [
    "40.Write a Python program to find the sum of all odd numbers from 1 to 50 using a while loop."
   ]
  },
  {
   "cell_type": "code",
   "execution_count": 35,
   "id": "b190b24b",
   "metadata": {},
   "outputs": [
    {
     "name": "stdout",
     "output_type": "stream",
     "text": [
      "625\n"
     ]
    }
   ],
   "source": [
    "sum_of_odds = 0\n",
    "num = 1\n",
    "\n",
    "while num <= 50:\n",
    "    sum_of_odds += num\n",
    "    num += 2\n",
    "\n",
    "print(sum_of_odds)\n"
   ]
  },
  {
   "cell_type": "markdown",
   "id": "bc815adb",
   "metadata": {},
   "source": [
    "41.Write a Python program to print all even numbers from 1 to 20 using a for loop."
   ]
  },
  {
   "cell_type": "code",
   "execution_count": 36,
   "id": "4f2b90b3",
   "metadata": {},
   "outputs": [
    {
     "name": "stdout",
     "output_type": "stream",
     "text": [
      "2\n",
      "4\n",
      "6\n",
      "8\n",
      "10\n",
      "12\n",
      "14\n",
      "16\n",
      "18\n",
      "20\n"
     ]
    }
   ],
   "source": [
    "for num in range(2, 21, 2):\n",
    "    print(num)\n"
   ]
  },
  {
   "cell_type": "markdown",
   "id": "eb4e2dd0",
   "metadata": {},
   "source": [
    "42.Write a Python program to count the number of vowels (a, e, i, o, u) in a given string using a for loop."
   ]
  },
  {
   "cell_type": "code",
   "execution_count": 37,
   "id": "29f51374",
   "metadata": {},
   "outputs": [
    {
     "name": "stdout",
     "output_type": "stream",
     "text": [
      "3\n"
     ]
    }
   ],
   "source": [
    "def count_vowels(string):\n",
    "    vowels = 'aeiou'\n",
    "    count = 0\n",
    "\n",
    "    for char in string:\n",
    "        if char.lower() in vowels:\n",
    "            count += 1\n",
    "\n",
    "    return count\n",
    "\n",
    "print(count_vowels(\"Hello, World!\"))  \n"
   ]
  },
  {
   "cell_type": "markdown",
   "id": "74a4bd24",
   "metadata": {},
   "source": [
    "43.Write a Python program to find the factorial of a given number using a while loop."
   ]
  },
  {
   "cell_type": "code",
   "execution_count": 38,
   "id": "974fa996",
   "metadata": {},
   "outputs": [
    {
     "name": "stdout",
     "output_type": "stream",
     "text": [
      "120\n"
     ]
    }
   ],
   "source": [
    "def factorial(num):\n",
    "    result = 1\n",
    "    while num > 1:\n",
    "        result *= num\n",
    "        num -= 1\n",
    "    return result\n",
    "\n",
    "print(factorial(5)) \n"
   ]
  },
  {
   "cell_type": "markdown",
   "id": "634a836e",
   "metadata": {},
   "source": [
    "44.Write a Python program to print the Fibonacci series up to a given number using a for loop."
   ]
  },
  {
   "cell_type": "code",
   "execution_count": 39,
   "id": "6db002bc",
   "metadata": {},
   "outputs": [
    {
     "name": "stdout",
     "output_type": "stream",
     "text": [
      "[0, 1, 1, 2, 3, 5, 8, 13, 21, 34]\n"
     ]
    }
   ],
   "source": [
    "def fibonacci(n):\n",
    "    fib_series = [0, 1]\n",
    "\n",
    "    for i in range(2, n):\n",
    "        next_num = fib_series[-1] + fib_series[-2]\n",
    "        fib_series.append(next_num)\n",
    "\n",
    "    return fib_series\n",
    "\n",
    "print(fibonacci(10)) \n"
   ]
  },
  {
   "cell_type": "markdown",
   "id": "f15a729e",
   "metadata": {},
   "source": [
    "45.Write a Python program to find the common elements between two lists using a for loop."
   ]
  },
  {
   "cell_type": "code",
   "execution_count": 40,
   "id": "7281e1b7",
   "metadata": {},
   "outputs": [
    {
     "name": "stdout",
     "output_type": "stream",
     "text": [
      "[3, 4]\n"
     ]
    }
   ],
   "source": [
    "def common_elements(list1, list2):\n",
    "    common = []\n",
    "\n",
    "    for item in list1:\n",
    "        if item in list2:\n",
    "            common.append(item)\n",
    "\n",
    "    return common\n",
    "\n",
    "print(common_elements([1, 2, 3, 4], [3, 4, 5, 6]))  \n"
   ]
  },
  {
   "cell_type": "markdown",
   "id": "bfa78b81",
   "metadata": {},
   "source": [
    "46.Write a Python program to check if a number is prime using a while loop."
   ]
  },
  {
   "cell_type": "code",
   "execution_count": 41,
   "id": "9a9e8f1b",
   "metadata": {},
   "outputs": [
    {
     "name": "stdout",
     "output_type": "stream",
     "text": [
      "True\n"
     ]
    }
   ],
   "source": [
    "def is_prime(num):\n",
    "    if num <= 1:\n",
    "        return False\n",
    "\n",
    "    divisor = 2\n",
    "    while divisor * divisor <= num:\n",
    "        if num % divisor == 0:\n",
    "            return False\n",
    "        divisor += 1\n",
    "\n",
    "    return True\n",
    "\n",
    "print(is_prime(13)) \n"
   ]
  },
  {
   "cell_type": "markdown",
   "id": "c80f093e",
   "metadata": {},
   "source": [
    "47.Write a Python program to reverse a given string using a for loop."
   ]
  },
  {
   "cell_type": "code",
   "execution_count": 42,
   "id": "c9915977",
   "metadata": {},
   "outputs": [
    {
     "name": "stdout",
     "output_type": "stream",
     "text": [
      "olleh\n"
     ]
    }
   ],
   "source": [
    "def reverse_string(string):\n",
    "    reversed_str = ''\n",
    "\n",
    "    for char in string:\n",
    "        reversed_str = char + reversed_str\n",
    "\n",
    "    return reversed_str\n",
    "\n",
    "print(reverse_string(\"hello\"))  \n"
   ]
  },
  {
   "cell_type": "markdown",
   "id": "681bf7c4",
   "metadata": {},
   "source": [
    "48.Write a Python program to find the largest element in a list using a while loop."
   ]
  },
  {
   "cell_type": "code",
   "execution_count": 43,
   "id": "2debeb40",
   "metadata": {},
   "outputs": [
    {
     "name": "stdout",
     "output_type": "stream",
     "text": [
      "10\n"
     ]
    }
   ],
   "source": [
    "def find_largest(lst):\n",
    "    largest = lst[0]\n",
    "    i = 1\n",
    "\n",
    "    while i < len(lst):\n",
    "        if lst[i] > largest:\n",
    "            largest = lst[i]\n",
    "        i += 1\n",
    "\n",
    "    return largest\n",
    "\n",
    "print(find_largest([2, 8, 4, 10, 6])) \n"
   ]
  },
  {
   "cell_type": "markdown",
   "id": "0062b567",
   "metadata": {},
   "source": [
    "49.Write a Python program to calculate the factorial of a number using a for loop."
   ]
  },
  {
   "cell_type": "code",
   "execution_count": 44,
   "id": "c568320a",
   "metadata": {},
   "outputs": [
    {
     "name": "stdout",
     "output_type": "stream",
     "text": [
      "120\n"
     ]
    }
   ],
   "source": [
    "def factorial(num):\n",
    "    result = 1\n",
    "\n",
    "    for i in range(1, num + 1):\n",
    "        result *= i\n",
    "\n",
    "    return result\n",
    "\n",
    "print(factorial(5))  \n"
   ]
  },
  {
   "cell_type": "markdown",
   "id": "67c5a188",
   "metadata": {},
   "source": [
    "50.Write a Python program to find the sum of the squares of all even numbers from 1 to a given number using a for loop."
   ]
  },
  {
   "cell_type": "code",
   "execution_count": 45,
   "id": "f1ace67e",
   "metadata": {},
   "outputs": [
    {
     "name": "stdout",
     "output_type": "stream",
     "text": [
      "220\n"
     ]
    }
   ],
   "source": [
    "def sum_of_squares_of_evens(n):\n",
    "    sum_of_squares = 0\n",
    "\n",
    "    for num in range(2, n + 1, 2):\n",
    "        sum_of_squares += num ** 2\n",
    "\n",
    "    return sum_of_squares\n",
    "\n",
    "print(sum_of_squares_of_evens(10))  \n"
   ]
  },
  {
   "cell_type": "code",
   "execution_count": null,
   "id": "8a756663",
   "metadata": {},
   "outputs": [],
   "source": []
  }
 ],
 "metadata": {
  "kernelspec": {
   "display_name": "Python 3 (ipykernel)",
   "language": "python",
   "name": "python3"
  },
  "language_info": {
   "codemirror_mode": {
    "name": "ipython",
    "version": 3
   },
   "file_extension": ".py",
   "mimetype": "text/x-python",
   "name": "python",
   "nbconvert_exporter": "python",
   "pygments_lexer": "ipython3",
   "version": "3.10.9"
  }
 },
 "nbformat": 4,
 "nbformat_minor": 5
}
