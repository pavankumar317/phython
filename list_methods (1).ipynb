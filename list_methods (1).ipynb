{
 "cells": [
  {
   "cell_type": "markdown",
   "id": "df95d29f",
   "metadata": {},
   "source": [
    "## List methods"
   ]
  },
  {
   "cell_type": "code",
   "execution_count": null,
   "id": "7ad26cc3",
   "metadata": {},
   "outputs": [],
   "source": [
    "* append\n",
    "* clear\n",
    "* copy\n",
    "* count\n",
    "* extend\n",
    "* index\n",
    "* insert\n",
    "*  pop\n",
    "* remove\n",
    "* reverse\n",
    "* sort\n",
    "        "
   ]
  },
  {
   "cell_type": "code",
   "execution_count": null,
   "id": "8eb1a7f9",
   "metadata": {},
   "outputs": [],
   "source": [
    "*In Python, a list is a built-in data structure that represents an ordered collection of items. It is mutable, which means its elements can be modified after it is created. Lists can contain elements of different data types such as integers, floats, strings, or even other lists.\n",
    "*Lists are defined using square brackets [ ] and individual elements are separated by commas\n",
    "*Lists are versatile and offer various operations and methods for manipulating and accessing their elements. You can perform actions such as adding or removing elements, accessing elements by index, slicing, sorting, and more. Lists are also iterable, which means you can iterate over the elements using loops like for or while.\n",
    "*Lists are commonly used in Python due to their flexibility and ability to hold a collection of items in a specific order. \n",
    "*They are widely used for data manipulation, storing multiple values, implementing algorithms, and much more."
   ]
  },
  {
   "cell_type": "markdown",
   "id": "4f2eebb9",
   "metadata": {},
   "source": [
    " ## methods"
   ]
  },
  {
   "cell_type": "markdown",
   "id": "69808b37",
   "metadata": {},
   "source": [
    "### Append\n",
    "*In Python, the append() method is used to add an element to the end of a list. It modifies the list in place by adding the specified item as the last element.\n",
    "*The syntax for using the append() method is as follows:"
   ]
  },
  {
   "cell_type": "code",
   "execution_count": 12,
   "id": "24b49187",
   "metadata": {},
   "outputs": [
    {
     "name": "stdout",
     "output_type": "stream",
     "text": [
      "['apple', 'banana', 'cherry', 'orange']\n"
     ]
    }
   ],
   "source": [
    "\n",
    "fruits = ['apple', 'banana', 'cherry']\n",
    "fruits.append('orange')\n",
    "print(fruits)\n",
    "\n"
   ]
  },
  {
   "cell_type": "markdown",
   "id": "c2a017ea",
   "metadata": {},
   "source": [
    "### Clear"
   ]
  },
  {
   "cell_type": "markdown",
   "id": "162ee77f",
   "metadata": {},
   "source": [
    "*In Python, the clear() method is used to remove all elements from a list. It modifies the list in place by removing all items, resulting in an empty list.\n",
    "*The syntax for using the clear() method is as follows:\n",
    "    "
   ]
  },
  {
   "cell_type": "code",
   "execution_count": 14,
   "id": "daca2865",
   "metadata": {},
   "outputs": [
    {
     "name": "stdout",
     "output_type": "stream",
     "text": [
      "[]\n"
     ]
    }
   ],
   "source": [
    "fruits = ['apple', 'banana', 'cherry', 'orange']\n",
    "fruits.clear()\n",
    "print(fruits)\n"
   ]
  },
  {
   "cell_type": "markdown",
   "id": "e40d55b1",
   "metadata": {},
   "source": [
    "### copy\n"
   ]
  },
  {
   "cell_type": "code",
   "execution_count": null,
   "id": "79670b0a",
   "metadata": {},
   "outputs": [],
   "source": [
    "*the copy() method is used to create a shallow copy of a list. \n",
    "*It returns a new list that contains the same elements as the original list.\n",
    "*The copy() method creates a new list object, independent of the original list. \n",
    "*If you modify the new list, the original list remains unaffected, and vice versa. However, keep in mind that since it creates a shallow copy,\n",
    "*if the original list contains mutable objects (e.g., other lists or dictionaries), the copies will reference the same objects.\n",
    "\n",
    "\n",
    "\n",
    "new_list = list_name.copy()\n",
    "fruits = ['apple', 'banana', 'cherry']\n",
    "fruits_copy = fruits.copy()\n",
    "\n",
    " \n",
    "    \n",
    "    \n",
    "       \n",
    "print(fruits_copy)\n",
    "fruits = ['apple', 'banana', 'cherry']\n",
    "fruits_copy = fruits.copy()\n",
    "\n",
    "# Modifying the copied list\n",
    "fruits_copy.append('orange')\n",
    "\n",
    "print(fruits)       # Output: ['apple', 'banana', 'cherry']\n",
    "print(fruits_copy)  # Output: ['apple', 'banana', 'cherry', 'orange']\n",
    "\n",
    "\n",
    "\n"
   ]
  },
  {
   "cell_type": "code",
   "execution_count": 1,
   "id": "f83c4de4",
   "metadata": {},
   "outputs": [
    {
     "name": "stdout",
     "output_type": "stream",
     "text": [
      "[1, 2, [3, 4, 5]]\n",
      "[1, 2, [3, 4, 5]]\n",
      "[1, 2, [3, 4]]\n"
     ]
    }
   ],
   "source": [
    "import copy\n",
    "\n",
    "list1 = [1, 2, [3, 4]]\n",
    "list2 = list1.copy()  # Shallow copy\n",
    "list3 = copy.deepcopy(list1)  # Deep copy\n",
    "\n",
    "# Modifying the nested list in the shallow copy\n",
    "list2[2].append(5)\n",
    "\n",
    "print(list1)  \n",
    "print(list2)  \n",
    "print(list3)  \n"
   ]
  },
  {
   "cell_type": "markdown",
   "id": "0497cad4",
   "metadata": {},
   "source": [
    "### Count\n"
   ]
  },
  {
   "cell_type": "markdown",
   "id": "71a377a9",
   "metadata": {},
   "source": [
    "*The count() method is a built-in function in Python that allows you to determine the number of occurrences of a specific element in a list. It takes an input value and returns the count of how many times that value appears in the list.\n"
   ]
  },
  {
   "cell_type": "code",
   "execution_count": 31,
   "id": "87b10846",
   "metadata": {},
   "outputs": [
    {
     "name": "stdout",
     "output_type": "stream",
     "text": [
      "3\n"
     ]
    }
   ],
   "source": [
    "\n",
    "fruits = ['apple', 'banana', 'orange', 'apple', 'kiwi', 'apple']\n",
    "count_apple = fruits.count('apple')\n",
    "print(count_apple)\n",
    "\n"
   ]
  },
  {
   "cell_type": "markdown",
   "id": "1abd820b",
   "metadata": {},
   "source": [
    "### Extend"
   ]
  },
  {
   "cell_type": "markdown",
   "id": "bfcb5800",
   "metadata": {},
   "source": [
    "*The extend() method in Python is used to extend a list by appending all the elements from another iterable (such as a list, tuple, or string) to the end of the original list. It modifies the original list in-place and does not create a new list.\n",
    "*Here's the syntax for the extend() method:"
   ]
  },
  {
   "cell_type": "code",
   "execution_count": 33,
   "id": "c8997fe7",
   "metadata": {},
   "outputs": [
    {
     "name": "stdout",
     "output_type": "stream",
     "text": [
      "['apple', 'banana', 'cherry', 'mango', 'orange', 'grape']\n"
     ]
    }
   ],
   "source": [
    "fruits = ['apple', 'banana', 'cherry']\n",
    "more_fruits = ['mango', 'orange', 'grape']\n",
    "fruits.extend(more_fruits)\n",
    "print(fruits)\n"
   ]
  },
  {
   "cell_type": "markdown",
   "id": "3cf8d9b6",
   "metadata": {},
   "source": [
    "### Index"
   ]
  },
  {
   "cell_type": "markdown",
   "id": "1fe70c8f",
   "metadata": {},
   "source": [
    "*, a list index refers to the position or location of an element within a list. Lists are ordered collections of items, and each item has a specific index associated with it. The indexing of lists typically starts at 0, meaning the first element in the list has an index of 0, the second element has an index of 1, and so on.\n"
   ]
  },
  {
   "cell_type": "code",
   "execution_count": 34,
   "id": "837d33d9",
   "metadata": {},
   "outputs": [
    {
     "name": "stdout",
     "output_type": "stream",
     "text": [
      "apple\n",
      "orange\n",
      "grape\n"
     ]
    }
   ],
   "source": [
    "\n",
    "\n",
    "fruits = ['apple', 'banana', 'orange', 'mango', 'grape']\n",
    "\n",
    "# Accessing elements using positive indexes\n",
    "print(fruits[0])   \n",
    "print(fruits[2])   \n",
    "print(fruits[4])  \n",
    "\n"
   ]
  },
  {
   "cell_type": "markdown",
   "id": "7a185dab",
   "metadata": {},
   "source": [
    "### Index"
   ]
  },
  {
   "cell_type": "markdown",
   "id": "340c8ee6",
   "metadata": {},
   "source": [
    "*The insert() method in Python is used to insert an element at a specific index within a list. It allows you to add a new item to the list at a desired position, while shifting the existing elements to the right\n",
    "*The syntax for the insert() method is as follows:"
   ]
  },
  {
   "cell_type": "code",
   "execution_count": 35,
   "id": "ad191f04",
   "metadata": {},
   "outputs": [
    {
     "name": "stdout",
     "output_type": "stream",
     "text": [
      "[1, 2, 10, 3, 4, 5]\n"
     ]
    }
   ],
   "source": [
    "numbers = [1, 2, 3, 4, 5]\n",
    "numbers.insert(2, 10)\n",
    "print(numbers)\n"
   ]
  },
  {
   "cell_type": "markdown",
   "id": "fc9f61b7",
   "metadata": {},
   "source": [
    "### POP"
   ]
  },
  {
   "cell_type": "markdown",
   "id": "e2df5e11",
   "metadata": {},
   "source": [
    "*The pop() method is used to remove and return an element from a list at a specific index. It modifies the original list by removing the element from the list.\n",
    "*The syntax for using the pop() method is as follows:\n",
    "\n"
   ]
  },
  {
   "cell_type": "code",
   "execution_count": 37,
   "id": "fb2c35c8",
   "metadata": {},
   "outputs": [
    {
     "name": "stdout",
     "output_type": "stream",
     "text": [
      "<built-in method pop of list object at 0x000002058F368200>\n",
      "['apple', 'banana', 'cherry', 'date']\n"
     ]
    }
   ],
   "source": [
    "\n",
    "fruits = ['apple', 'banana', 'cherry', 'date']\n",
    "removed_fruit = fruits.pop\n",
    "print(removed_fruit)  \n",
    "print(fruits)  \n"
   ]
  },
  {
   "cell_type": "markdown",
   "id": "64db7e8d",
   "metadata": {},
   "source": [
    "### Remove"
   ]
  },
  {
   "cell_type": "markdown",
   "id": "a9fbe8c7",
   "metadata": {},
   "source": [
    "*In Python, the list.remove() method is used to remove the first occurrence of a specified element from a list. It modifies the list in place, meaning it changes the original list rather than creating a new one.\n",
    "Here's the syntax for using the list.remove() method:"
   ]
  },
  {
   "cell_type": "code",
   "execution_count": 38,
   "id": "a1344250",
   "metadata": {},
   "outputs": [
    {
     "name": "stdout",
     "output_type": "stream",
     "text": [
      "['apple', 'orange', 'banana']\n"
     ]
    }
   ],
   "source": [
    "fruits = ['apple', 'banana', 'orange', 'banana']\n",
    "fruits.remove('banana')\n",
    "print(fruits)\n"
   ]
  },
  {
   "cell_type": "markdown",
   "id": "18191963",
   "metadata": {},
   "source": [
    "### Reverse"
   ]
  },
  {
   "cell_type": "markdown",
   "id": "1ba0ffb3",
   "metadata": {},
   "source": [
    "*In Python, the reverse() method is used to reverse the order of elements in a list.\n",
    "It modifies the list in-place, meaning it doesn't return a new list but changes the original list itself. Here's the syntax for using the reverse() method:"
   ]
  },
  {
   "cell_type": "code",
   "execution_count": 39,
   "id": "3e1938ae",
   "metadata": {},
   "outputs": [
    {
     "name": "stdout",
     "output_type": "stream",
     "text": [
      "['date', 'cherry', 'banana', 'apple']\n"
     ]
    }
   ],
   "source": [
    "fruits = ['apple', 'banana', 'cherry', 'date']\n",
    "fruits.reverse()\n",
    "print(fruits)\n"
   ]
  },
  {
   "cell_type": "markdown",
   "id": "9fa198f7",
   "metadata": {},
   "source": [
    "### Sort"
   ]
  },
  {
   "cell_type": "markdown",
   "id": "000d8f83",
   "metadata": {},
   "source": [
    "*The sort() method in Python is used to sort the elements of a list in ascending order by default. It modifies the list in-place and does not return a new sorted list.\n",
    "*Here's the general syntax for using the sort() method:"
   ]
  },
  {
   "cell_type": "code",
   "execution_count": 40,
   "id": "fa0dd5dd",
   "metadata": {},
   "outputs": [
    {
     "name": "stdout",
     "output_type": "stream",
     "text": [
      "[1, 2, 5, 6, 8]\n"
     ]
    }
   ],
   "source": [
    "numbers = [5, 2, 8, 1, 6]\n",
    "numbers.sort()\n",
    "print(numbers)\n"
   ]
  }
 ],
 "metadata": {
  "kernelspec": {
   "display_name": "Python 3 (ipykernel)",
   "language": "python",
   "name": "python3"
  },
  "language_info": {
   "codemirror_mode": {
    "name": "ipython",
    "version": 3
   },
   "file_extension": ".py",
   "mimetype": "text/x-python",
   "name": "python",
   "nbconvert_exporter": "python",
   "pygments_lexer": "ipython3",
   "version": "3.10.9"
  }
 },
 "nbformat": 4,
 "nbformat_minor": 5
}
