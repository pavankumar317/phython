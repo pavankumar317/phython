{
 "cells": [
  {
   "cell_type": "markdown",
   "id": "65b75bb4",
   "metadata": {},
   "source": [
    "1. Create a function that takes a base number and an exponent number and returns the calculation.\n",
    "\n",
    "Examples\n",
    "calculate_exponent(5, 5) ➞ 3125\n",
    "\n",
    "calculate_exponent(10, 10) ➞ 10000000000\n",
    "\n",
    "calculate_exponent(3, 3) ➞ 27"
   ]
  },
  {
   "cell_type": "code",
   "execution_count": 2,
   "id": "c9655dc8",
   "metadata": {},
   "outputs": [
    {
     "name": "stdout",
     "output_type": "stream",
     "text": [
      "3125\n",
      "10000000000\n",
      "27\n"
     ]
    }
   ],
   "source": [
    "def calculate_exponent(base, exponent):\n",
    "    result = 1\n",
    "    for _ in range(exponent):\n",
    "        result *= base\n",
    "    return result\n",
    "\n",
    "\n",
    "print(calculate_exponent(5, 5))   \n",
    "print(calculate_exponent(10, 10)) \n",
    "print(calculate_exponent(3, 3))  "
   ]
  },
  {
   "cell_type": "markdown",
   "id": "d39b974a",
   "metadata": {},
   "source": [
    "2.create a function that takes a string and returns it as an integer.\n",
    "\n",
    "Examples\n",
    "string_int(\"6\") ➞ 6\n",
    "\n",
    "string_int(\"1000\") ➞ 1000\n",
    "\n",
    "string_int(\"12\") ➞ 12\n"
   ]
  },
  {
   "cell_type": "code",
   "execution_count": 4,
   "id": "9b7a965a",
   "metadata": {},
   "outputs": [
    {
     "name": "stdout",
     "output_type": "stream",
     "text": [
      "6\n",
      "1000\n",
      "12\n"
     ]
    }
   ],
   "source": [
    "def string_int(s):\n",
    "    result = 0\n",
    "    for char in s:\n",
    "        digit = ord(char) - ord('0')  # Convert character to its corresponding integer value\n",
    "        result = result * 10 + digit\n",
    "    return result\n",
    "\n",
    "\n",
    "print(string_int(\"6\"))    \n",
    "print(string_int(\"1000\")) \n",
    "print(string_int(\"12\"))    "
   ]
  },
  {
   "cell_type": "markdown",
   "id": "29f96c4b",
   "metadata": {},
   "source": [
    "3.Create a function that takes the age in years and returns the age in days.\n",
    "\n",
    "Examples\n",
    "calc_age(65) ➞ 23725\n",
    "\n",
    "calc_age(0) ➞ 0\n",
    "\n",
    "calc_age(20) ➞ 7300"
   ]
  },
  {
   "cell_type": "code",
   "execution_count": 5,
   "id": "0f36cbf4",
   "metadata": {},
   "outputs": [
    {
     "name": "stdout",
     "output_type": "stream",
     "text": [
      "23725\n",
      "0\n",
      "7300\n"
     ]
    }
   ],
   "source": [
    "def calc_age(age_years):\n",
    "    age_days = 0\n",
    "    for year in range(1, age_years + 1):\n",
    "        age_days += 365\n",
    "    return age_days\n",
    "\n",
    "print(calc_age(65))  \n",
    "print(calc_age(0))   \n",
    "print(calc_age(20))  "
   ]
  },
  {
   "cell_type": "markdown",
   "id": "d3835618",
   "metadata": {},
   "source": [
    "4.Create a function that takes a number as an argument, increments the number by +1 and returns the result.\n",
    "\n",
    "Examples\n",
    "addition(0) ➞ 1\n",
    "\n",
    "addition(9) ➞ 10\n",
    "\n",
    "addition(-3) ➞ -2\n"
   ]
  },
  {
   "cell_type": "code",
   "execution_count": 7,
   "id": "1246d8ba",
   "metadata": {
    "scrolled": true
   },
   "outputs": [
    {
     "name": "stdout",
     "output_type": "stream",
     "text": [
      "1\n",
      "10\n",
      "-4\n",
      "1\n",
      "10\n",
      "-2\n"
     ]
    }
   ],
   "source": [
    "def addition(num):\n",
    "    # If num is negative, decrement it instead of incrementing\n",
    "    sign = 1 if num >= 0 else -1\n",
    "    num = abs(num)  # Convert num to its absolute value\n",
    "    \n",
    "    # Loop to add 1 to num\n",
    "    for _ in range(1):\n",
    "        num += 1\n",
    "    \n",
    "    return num * sign  # Restore the original sign\n",
    "\n",
    "print(addition(0))  \n",
    "print(addition(9))  \n",
    "print(addition(-3)) \n",
    "def addition(num):\n",
    "    return num + 1\n",
    "\n",
    "\n",
    "print(addition(0))  \n",
    "print(addition(9))  \n",
    "print(addition(-3))"
   ]
  },
  {
   "cell_type": "markdown",
   "id": "265997be",
   "metadata": {},
   "source": [
    "5.Write a function that takes an integer minutes and converts it to seconds.\n",
    "\n",
    "Examples\n",
    "convert(5) ➞ 300\n",
    "\n",
    "convert(3) ➞ 180\n",
    "\n",
    "convert(2) ➞ 120\n"
   ]
  },
  {
   "cell_type": "code",
   "execution_count": 8,
   "id": "8d3c857f",
   "metadata": {
    "scrolled": true
   },
   "outputs": [
    {
     "name": "stdout",
     "output_type": "stream",
     "text": [
      "300\n",
      "180\n",
      "120\n"
     ]
    }
   ],
   "source": [
    "\n",
    "def convert(minutes):\n",
    "    seconds = 0\n",
    "    for _ in range(minutes):\n",
    "        seconds += 60\n",
    "    return seconds\n",
    "\n",
    "\n",
    "print(convert(5)) \n",
    "print(convert(3)) \n",
    "print(convert(2)) \n"
   ]
  },
  {
   "cell_type": "markdown",
   "id": "8019a4cc",
   "metadata": {},
   "source": [
    "6.There is a single operator in Python, capable of providing the remainder of a division operation. Two numbers are passed as parameters. The first parameter divided by the second parameter will have a remainder, possibly zero. Return that value.\n",
    "\n",
    "Examples\n",
    "remainder(1, 3) ➞ 1\n",
    "\n",
    "remainder(3, 4) ➞ 3\n",
    "\n",
    "remainder(5, 5) ➞ 0\n",
    "\n",
    "remainder(7, 2) ➞ 1"
   ]
  },
  {
   "cell_type": "code",
   "execution_count": 22,
   "id": "dafbfa8e",
   "metadata": {
    "scrolled": true
   },
   "outputs": [
    {
     "name": "stdout",
     "output_type": "stream",
     "text": [
      "1\n",
      "3\n",
      "0\n",
      "1\n"
     ]
    }
   ],
   "source": [
    "def remainder(num1, num2):\n",
    "    while num1 >= num2:\n",
    "        num1 -= num2\n",
    "    return num1\n",
    "\n",
    "\n",
    "print(remainder(1, 3))\n",
    "print(remainder(3, 4))\n",
    "print(remainder(5, 5))\n",
    "print(remainder(7, 2)) "
   ]
  },
  {
   "cell_type": "markdown",
   "id": "5dac952c",
   "metadata": {},
   "source": [
    "7.Create a function that takes the age in years and returns the age in days.\n",
    "\n",
    "Examples\n",
    "calc_age(65) ➞ 23725\n",
    "\n",
    "calc_age(0) ➞ 0\n",
    "\n",
    "calc_age(20) ➞ 7300"
   ]
  },
  {
   "cell_type": "code",
   "execution_count": 9,
   "id": "9edf970a",
   "metadata": {},
   "outputs": [
    {
     "name": "stdout",
     "output_type": "stream",
     "text": [
      "23725\n",
      "0\n",
      "7300\n"
     ]
    }
   ],
   "source": [
    "def calc_age(age_years):\n",
    "    age_days = 0\n",
    "    for year in range(age_years):\n",
    "        age_days += 365\n",
    "    return age_days\n",
    "\n",
    "print(calc_age(65))\n",
    "print(calc_age(0))  \n",
    "print(calc_age(20))  "
   ]
  },
  {
   "cell_type": "markdown",
   "id": "7107eae1",
   "metadata": {},
   "source": [
    "8.Fix the code in the code tab to pass this challenge (only syntax errors). Look at the examples below to get an idea of what the function should do.\n",
    "\n",
    "Examples\n",
    "cubes(3) ➞ 27\n",
    "\n",
    "cubes(5) ➞ 125\n",
    "\n",
    "cubes(10) ➞ 1000"
   ]
  },
  {
   "cell_type": "code",
   "execution_count": 10,
   "id": "38e33dbd",
   "metadata": {},
   "outputs": [
    {
     "name": "stdout",
     "output_type": "stream",
     "text": [
      "27\n",
      "125\n",
      "1000\n"
     ]
    }
   ],
   "source": [
    "def cubes(num):\n",
    "    result = 1\n",
    "    for _ in range(3):\n",
    "        result *= num\n",
    "    return result\n",
    "\n",
    "print(cubes(3)) \n",
    "print(cubes(5))  \n",
    "print(cubes(10)) "
   ]
  },
  {
   "cell_type": "markdown",
   "id": "a2b55763",
   "metadata": {},
   "source": [
    "Create a function that finds the maximum range of a triangle's third edge, where the side lengths are all integers.\n",
    "\n",
    "Examples\n",
    "\n",
    "next_edge(8, 10) ➞ 17\n",
    "\n",
    "next_edge(5, 7) ➞ 11\n",
    "\n",
    "next_edge(9, 2) ➞ 10"
   ]
  },
  {
   "cell_type": "code",
   "execution_count": 11,
   "id": "3ae73b48",
   "metadata": {},
   "outputs": [
    {
     "name": "stdout",
     "output_type": "stream",
     "text": [
      "17\n",
      "11\n",
      "10\n"
     ]
    }
   ],
   "source": [
    "def next_edge(side1, side2):\n",
    "    max_range = 0\n",
    "    for i in range(1, side1 + side2):\n",
    "        if side1 + side2 > i and side1 + i > side2 and side2 + i > side1:\n",
    "            max_range = max(max_range, i)\n",
    "    return max_range\n",
    "\n",
    "print(next_edge(8, 10))\n",
    "print(next_edge(5, 7))  \n",
    "print(next_edge(9, 2))  \n"
   ]
  },
  {
   "cell_type": "markdown",
   "id": "d476da93",
   "metadata": {},
   "source": [
    "9.Write a function that converts hours into seconds.\n",
    "\n",
    "Examples\n",
    "\n",
    "how_many_seconds(2) ➞ 7200\n",
    "\n",
    "how_many_seconds(10) ➞ 36000\n",
    "\n",
    "how_many_seconds(24) ➞ 86400"
   ]
  },
  {
   "cell_type": "code",
   "execution_count": 12,
   "id": "e8a45389",
   "metadata": {},
   "outputs": [
    {
     "name": "stdout",
     "output_type": "stream",
     "text": [
      "7200\n",
      "36000\n",
      "86400\n"
     ]
    }
   ],
   "source": [
    "def how_many_seconds(hours):\n",
    "    seconds = 0\n",
    "    for _ in range(hours):\n",
    "        seconds += 3600\n",
    "    return seconds\n",
    "\n",
    "\n",
    "print(how_many_seconds(2)) \n",
    "print(how_many_seconds(10)) \n",
    "print(how_many_seconds(24))\n"
   ]
  },
  {
   "cell_type": "markdown",
   "id": "6bdbca9a",
   "metadata": {},
   "source": [
    "10.Create a function that takes two numbers as arguments and returns their sum.\n",
    "\n",
    "Examples\n",
    "addition(3, 2) ➞ 5\n",
    "\n",
    "addition(-3, -6) ➞ -9\n",
    "\n",
    "addition(7, 3) ➞ 10"
   ]
  },
  {
   "cell_type": "code",
   "execution_count": 13,
   "id": "4c20c13a",
   "metadata": {},
   "outputs": [
    {
     "name": "stdout",
     "output_type": "stream",
     "text": [
      "5\n",
      "-9\n",
      "10\n"
     ]
    }
   ],
   "source": [
    "def addition(num1, num2):\n",
    "    result = num1\n",
    "    for _ in range(abs(num2)):\n",
    "        if num2 > 0:\n",
    "            result += 1\n",
    "        else:\n",
    "            result -= 1\n",
    "    return result\n",
    "\n",
    "\n",
    "print(addition(3, 2))  \n",
    "print(addition(-3, -6))\n",
    "print(addition(7, 3))   "
   ]
  },
  {
   "cell_type": "markdown",
   "id": "81de4342",
   "metadata": {},
   "source": [
    "11.Write a function that takes the base and height of a triangle and return its area.\n",
    "\n",
    "Examples\n",
    "\n",
    "tri_area(3, 2) ➞ 3\n",
    "\n",
    "tri_area(7, 4) ➞ 14\n",
    "\n",
    "tri_area(10, 10) ➞ 50"
   ]
  },
  {
   "cell_type": "code",
   "execution_count": 14,
   "id": "f0b14df2",
   "metadata": {},
   "outputs": [
    {
     "name": "stdout",
     "output_type": "stream",
     "text": [
      "3\n",
      "14\n",
      "50\n"
     ]
    }
   ],
   "source": [
    "def tri_area(base, height):\n",
    "    area = 0\n",
    "    for _ in range(height):\n",
    "        area += base\n",
    "    return area // 2\n",
    "\n",
    "\n",
    "print(tri_area(3, 2)) \n",
    "print(tri_area(7, 4))  \n",
    "print(tri_area(10, 10)) "
   ]
  },
  {
   "cell_type": "markdown",
   "id": "14f5d247",
   "metadata": {},
   "source": [
    "12.Write a function that takes an integer minutes and converts it to seconds.\n",
    "\n",
    "Examples\n",
    "\n",
    "convert(5) ➞ 300\n",
    "\n",
    "convert(3) ➞ 180\n",
    "\n",
    "convert(2) ➞ 120"
   ]
  },
  {
   "cell_type": "code",
   "execution_count": 15,
   "id": "50ce81cd",
   "metadata": {},
   "outputs": [
    {
     "name": "stdout",
     "output_type": "stream",
     "text": [
      "300\n",
      "180\n",
      "120\n"
     ]
    }
   ],
   "source": [
    "def convert(minutes):\n",
    "    seconds = 0\n",
    "    for _ in range(minutes):\n",
    "        seconds += 60\n",
    "    return seconds\n",
    "\n",
    "\n",
    "print(convert(5))\n",
    "print(convert(3)) \n",
    "print(convert(2)) "
   ]
  },
  {
   "cell_type": "markdown",
   "id": "70d7b281",
   "metadata": {},
   "source": [
    "13.Create a function that takes length and width and finds the perimeter of a rectangle.\n",
    "\n",
    "Examples\n",
    "\n",
    "find_perimeter(6, 7) ➞ 26\n",
    "\n",
    "find_perimeter(20, 10) ➞ 60\n",
    "\n",
    "find_perimeter(2, 9) ➞ 22"
   ]
  },
  {
   "cell_type": "code",
   "execution_count": 16,
   "id": "e98d480c",
   "metadata": {},
   "outputs": [
    {
     "name": "stdout",
     "output_type": "stream",
     "text": [
      "26\n",
      "60\n",
      "22\n"
     ]
    }
   ],
   "source": [
    "def find_perimeter(length, width):\n",
    "    perimeter = 0\n",
    "    for _ in range(2):\n",
    "        perimeter += length + width\n",
    "    return perimeter\n",
    "\n",
    "\n",
    "print(find_perimeter(6, 7))   \n",
    "print(find_perimeter(20, 10)) \n",
    "print(find_perimeter(2, 9))  "
   ]
  },
  {
   "cell_type": "markdown",
   "id": "32d8fd01",
   "metadata": {},
   "source": [
    "14.Create a function that takes voltage and current and returns the calculated power.\n",
    "\n",
    "Examples\n",
    "circuit_power(230, 10) ➞ 2300\n",
    "\n",
    "circuit_power(110, 3) ➞ 330\n",
    "\n",
    "circuit_power(480, 20) ➞ 9600"
   ]
  },
  {
   "cell_type": "code",
   "execution_count": 17,
   "id": "0392f8d9",
   "metadata": {},
   "outputs": [
    {
     "name": "stdout",
     "output_type": "stream",
     "text": [
      "2300\n",
      "330\n",
      "9600\n"
     ]
    }
   ],
   "source": [
    "def circuit_power(voltage, current):\n",
    "    power = 0\n",
    "    for _ in range(current):\n",
    "        power += voltage\n",
    "    return power\n",
    "\n",
    "print(circuit_power(230, 10)) \n",
    "print(circuit_power(110, 3))  \n",
    "print(circuit_power(480, 20)) "
   ]
  },
  {
   "cell_type": "markdown",
   "id": "9899c9db",
   "metadata": {},
   "source": [
    "15.Write a function that takes the base and height of a triangle and return its area.\n",
    "\n",
    "Examples\n",
    "\n",
    "tri_area(3, 2) ➞ 3\n",
    "\n",
    "tri_area(7, 4) ➞ 14\n",
    "\n",
    "tri_area(10, 10) ➞ 50"
   ]
  },
  {
   "cell_type": "code",
   "execution_count": 18,
   "id": "7d618b73",
   "metadata": {},
   "outputs": [
    {
     "name": "stdout",
     "output_type": "stream",
     "text": [
      "3\n",
      "14\n",
      "50\n"
     ]
    }
   ],
   "source": [
    "def tri_area(base, height):\n",
    "    area = 0\n",
    "    for _ in range(height):\n",
    "        area += base\n",
    "    return area // 2\n",
    "\n",
    "\n",
    "print(tri_area(3, 2))   \n",
    "print(tri_area(7, 4))  \n",
    "print(tri_area(10, 10)) "
   ]
  },
  {
   "cell_type": "markdown",
   "id": "95353f9d",
   "metadata": {},
   "source": [
    "16.Create a function that takes a list of numbers. Return the largest number in the list.\n",
    "\n",
    "Examples\n",
    "\n",
    "findLargestNum([4, 5, 1, 3]) ➞ 5\n",
    "\n",
    "findLargestNum([300, 200, 600, 150]) ➞ 600\n",
    "\n",
    "findLargestNum([1000, 1001, 857, 1]) ➞ 1001"
   ]
  },
  {
   "cell_type": "code",
   "execution_count": 19,
   "id": "4fc7c115",
   "metadata": {},
   "outputs": [
    {
     "name": "stdout",
     "output_type": "stream",
     "text": [
      "5\n",
      "600\n",
      "1001\n"
     ]
    }
   ],
   "source": [
    "def findLargestNum(nums):\n",
    "    largest_num = float('-inf')  # Initialize with negative infinity\n",
    "    for num in nums:\n",
    "        if num > largest_num:\n",
    "            largest_num = num\n",
    "    return largest_num\n",
    "\n",
    "\n",
    "print(findLargestNum([4, 5, 1, 3]))         \n",
    "print(findLargestNum([300, 200, 600, 150]))  \n",
    "print(findLargestNum([1000, 1001, 857, 1]))  "
   ]
  },
  {
   "cell_type": "markdown",
   "id": "ac6e49d4",
   "metadata": {},
   "source": [
    "17.Create a function that takes a list of numbers and returns the smallest number in the list.\n",
    "\n",
    "Examples\n",
    "\n",
    "find_smallest_num([34, 15, 88, 2]) ➞ 2\n",
    "\n",
    "find_smallest_num([34, -345, -1, 100]) ➞ -345\n",
    "\n",
    "find_smallest_num([-76, 1.345, 1, 0]) ➞ -76\n",
    "\n",
    "find_smallest_num([0.4356, 0.8795, 0.5435, -0.9999]) ➞ -0.9999\n",
    "\n",
    "find_smallest_num([7, 7, 7]) ➞ 7"
   ]
  },
  {
   "cell_type": "code",
   "execution_count": 20,
   "id": "f411d3e8",
   "metadata": {},
   "outputs": [
    {
     "name": "stdout",
     "output_type": "stream",
     "text": [
      "2\n",
      "-345\n",
      "-76\n",
      "-0.9999\n",
      "7\n"
     ]
    }
   ],
   "source": [
    "def find_smallest_num(nums):\n",
    "    smallest_num = float('inf')  # Initialize with positive infinity\n",
    "    for num in nums:\n",
    "        if num < smallest_num:\n",
    "            smallest_num = num\n",
    "    return smallest_num\n",
    "\n",
    "\n",
    "print(find_smallest_num([34, 15, 88, 2]))            \n",
    "print(find_smallest_num([34, -345, -1, 100]))         \n",
    "print(find_smallest_num([-76, 1.345, 1, 0]))        \n",
    "print(find_smallest_num([0.4356, 0.8795, 0.5435, -0.9999]))  \n",
    "print(find_smallest_num([7, 7, 7]))                  "
   ]
  },
  {
   "cell_type": "markdown",
   "id": "f9913bcf",
   "metadata": {},
   "source": [
    " 18.Create a function that takes a list and returns the difference between the biggest and smallest numbers.\n",
    "\n",
    "Examples\n",
    "difference_max_min([10, 4, 1, 4, -10, -50, 32, 21]) ➞ 82\n",
    " smallest number is -50, biggest is 32.\n",
    "\n",
    "difference_max_min([44, 32, 86, 19]) ➞ 67\n",
    "Smallest number is 19, biggest is 86.18."
   ]
  },
  {
   "cell_type": "code",
   "execution_count": 21,
   "id": "19821a5c",
   "metadata": {},
   "outputs": [
    {
     "name": "stdout",
     "output_type": "stream",
     "text": [
      "82\n",
      "67\n"
     ]
    }
   ],
   "source": [
    "def difference_max_min(nums):\n",
    "    smallest_num = float('inf')  # Initialize with positive infinity\n",
    "    largest_num = float('-inf')  # Initialize with negative infinity\n",
    "    \n",
    "    for num in nums:\n",
    "        if num < smallest_num:\n",
    "            smallest_num = num\n",
    "        if num > largest_num:\n",
    "            largest_num = num\n",
    "    \n",
    "    return largest_num - smallest_num\n",
    "\n",
    "\n",
    "print(difference_max_min([10, 4, 1, 4, -10, -50, 32, 21]))  \n",
    "print(difference_max_min([44, 32, 86, 19]))               \n"
   ]
  },
  {
   "cell_type": "markdown",
   "id": "33bd4666",
   "metadata": {},
   "source": [
    " 19 .Create a function that takes a list and returns the sum of all numbers in the list.\n",
    "\n",
    "Examples\n",
    "get_sum_of_elements([2, 7, 4]) ➞ 13\n",
    "\n",
    "get_sum_of_elements([45, 3, 0]) ➞ 48\n",
    "\n",
    "get_sum_of_elements([-2, 84, 23]) ➞ 105"
   ]
  },
  {
   "cell_type": "code",
   "execution_count": 22,
   "id": "d4190665",
   "metadata": {},
   "outputs": [
    {
     "name": "stdout",
     "output_type": "stream",
     "text": [
      "13\n",
      "48\n",
      "105\n"
     ]
    }
   ],
   "source": [
    "def get_sum_of_elements(nums):\n",
    "    total_sum = 0\n",
    "    for num in nums:\n",
    "        total_sum += num\n",
    "    return total_sum\n",
    "\n",
    "\n",
    "print(get_sum_of_elements([2, 7, 4]))    \n",
    "print(get_sum_of_elements([45, 3, 0]))   \n",
    "print(get_sum_of_elements([-2, 84, 23]))"
   ]
  },
  {
   "cell_type": "markdown",
   "id": "66f84496",
   "metadata": {},
   "source": [
    "20. Create a function that takes a number (from 1 - 60) and returns a corresponding string of hyphens.\n",
    "\n",
    "Examples\n",
    "num_to_dashes(1) ➞ \"-\"\n",
    "\n",
    "num_to_dashes(5) ➞ \"-----\"\n",
    "\n",
    "num_to_dashes(3) ➞ \"---\""
   ]
  },
  {
   "cell_type": "code",
   "execution_count": 23,
   "id": "9a116a49",
   "metadata": {},
   "outputs": [
    {
     "name": "stdout",
     "output_type": "stream",
     "text": [
      "-\n",
      "-----\n",
      "---\n"
     ]
    }
   ],
   "source": [
    "def num_to_dashes(num):\n",
    "    dashes = \"\"\n",
    "    for _ in range(num):\n",
    "        dashes += \"-\"\n",
    "    return dashes\n",
    "\n",
    "\n",
    "print(num_to_dashes(1))\n",
    "print(num_to_dashes(5))\n",
    "print(num_to_dashes(3)) "
   ]
  },
  {
   "cell_type": "markdown",
   "id": "e9f5b5fc",
   "metadata": {},
   "source": [
    "21. Write a function that takes an integer and returns a string with the given number of \"a\"s in Edabit.\n",
    "\n",
    "Examples\n",
    "\n",
    "how_many_times(5) ➞ \"Edaaaaabit\"\n",
    "\n",
    "how_many_times(0) ➞ \"Edbit\"\n",
    "\n",
    "how_many_times(12) ➞ \"Edaaaaaaaaaaaabit\""
   ]
  },
  {
   "cell_type": "code",
   "execution_count": 24,
   "id": "31a49ccb",
   "metadata": {},
   "outputs": [
    {
     "name": "stdout",
     "output_type": "stream",
     "text": [
      "Edaaaaabit\n",
      "Edbit\n",
      "Edaaaaaaaaaaaabit\n"
     ]
    }
   ],
   "source": [
    "def how_many_times(num):\n",
    "    result = \"Ed\"\n",
    "    for _ in range(num):\n",
    "        result += \"a\"\n",
    "    result += \"bit\"\n",
    "    return result\n",
    "\n",
    "\n",
    "print(how_many_times(5))\n",
    "print(how_many_times(0)) \n",
    "print(how_many_times(12)) "
   ]
  },
  {
   "cell_type": "markdown",
   "id": "9860a288",
   "metadata": {},
   "source": [
    "22. Create a function that returns True if all parameters are truthy, and False otherwise.\n",
    "\n",
    "Examples\n",
    "\n",
    "all_truthy(True, True, True) ➞ True\n",
    "\n",
    "all_truthy(True, False, True) ➞ False\n",
    "\n",
    "all_truthy(5, 4, 3, 2, 1, 0) ➞ False"
   ]
  },
  {
   "cell_type": "code",
   "execution_count": 25,
   "id": "a7556d65",
   "metadata": {},
   "outputs": [
    {
     "name": "stdout",
     "output_type": "stream",
     "text": [
      "True\n",
      "False\n",
      "False\n"
     ]
    }
   ],
   "source": [
    "def all_truthy(*args):\n",
    "    for arg in args:\n",
    "        if not arg:\n",
    "            return False\n",
    "    return True\n",
    "\n",
    "\n",
    "print(all_truthy(True, True, True))  \n",
    "print(all_truthy(True, False, True))  \n",
    "print(all_truthy(5, 4, 3, 2, 1, 0))  \n"
   ]
  },
  {
   "cell_type": "markdown",
   "id": "3826d255",
   "metadata": {},
   "source": [
    "23. Mubashir created an infinite loop! Help him by fixing the code in the code tab to pass this challenge. Look at the examples below to get an idea of what the function should do.\n",
    "print_list(1) ➞ [1]\n",
    "\n",
    "print_list(3) ➞ [1, 2, 3]\n",
    "\n",
    "print_list(6) ➞ [1, 2, 3, 4, 5, 6]\n"
   ]
  },
  {
   "cell_type": "code",
   "execution_count": 26,
   "id": "97cf41bc",
   "metadata": {},
   "outputs": [
    {
     "name": "stdout",
     "output_type": "stream",
     "text": [
      "[1]\n",
      "[1, 2, 3]\n",
      "[1, 2, 3, 4, 5, 6]\n"
     ]
    }
   ],
   "source": [
    "def print_list(num):\n",
    "    result = []\n",
    "    for i in range(1, num + 1):\n",
    "        result.append(i)\n",
    "    return result\n",
    "\n",
    "\n",
    "print(print_list(1))\n",
    "print(print_list(3))\n",
    "print(print_list(6)) \n"
   ]
  },
  {
   "cell_type": "markdown",
   "id": "d1960e87",
   "metadata": {},
   "source": [
    " 24.reate a function that returns the last value of the last item in a list or string.\n",
    "\n",
    "Examples\n",
    "last_ind([0, 4, 19, 34, 50, -9, 2])\n",
    "\n",
    "last_ind(\"The quick brown fox jumped over the lazy dog\") \n",
    "\n",
    "last_ind([])"
   ]
  },
  {
   "cell_type": "code",
   "execution_count": 27,
   "id": "bcbc45a4",
   "metadata": {},
   "outputs": [
    {
     "name": "stdout",
     "output_type": "stream",
     "text": [
      "2\n",
      "g\n",
      "None\n"
     ]
    }
   ],
   "source": [
    "def last_ind(data):\n",
    "    if isinstance(data, list):\n",
    "        for item in data[::-1]:\n",
    "            if isinstance(item, (list, str)):\n",
    "                return item[-1]\n",
    "            return item\n",
    "    elif isinstance(data, str):\n",
    "        words = data.split()\n",
    "        for word in words[::-1]:\n",
    "            return word[-1]\n",
    "    return None\n",
    "\n",
    "print(last_ind([0, 4, 19, 34, 50, -9, 2]))\n",
    "print(last_ind(\"The quick brown fox jumped over the lazy dog\")) \n",
    "print(last_ind([])) \n"
   ]
  },
  {
   "cell_type": "markdown",
   "id": "6da2a16a",
   "metadata": {},
   "source": [
    " 25 .You can assign variables from lists like this:\n",
    "\n",
    "first, _ , last = [1, 2, 8]\n",
    "\n",
    "first   = lst[0]\n",
    "\n",
    "_   = ignores second value (2)\n",
    "\n",
    "last   = lst[-1]\n",
    "\n",
    "print(first) ➞ outputs 1"
   ]
  },
  {
   "cell_type": "code",
   "execution_count": 28,
   "id": "c915d46f",
   "metadata": {},
   "outputs": [
    {
     "name": "stdout",
     "output_type": "stream",
     "text": [
      "1\n"
     ]
    }
   ],
   "source": [
    "def get_first(lst):\n",
    "    return lst[0]\n",
    "\n",
    "\n",
    "print(get_first([1, 2, 8]))  \n"
   ]
  },
  {
   "cell_type": "markdown",
   "id": "ec973dac",
   "metadata": {},
   "source": [
    "26.  Scientists have discovered that in four decades, the world will EXPLODE! It will also take three decades to make a spaceship to travel to a new planet that can hold the entire world population.\n",
    "\n",
    "You must calculate the number of people there will be in three decades from now.\n",
    "\n",
    "The variable P is the world population now.\n",
    "Assume that every month, someone gives birth to more people nP.\n",
    "Return the number of people there will be when the spaceship is complete.\n",
    "\n",
    "Examples\n",
    "future_people(256, 2) ➞ 976\n",
    "\n",
    "future_people(3248, 6) ➞ 5408\n",
    "\n",
    "future_people(5240, 3) ➞ 6320"
   ]
  },
  {
   "cell_type": "code",
   "execution_count": 29,
   "id": "1de926f2",
   "metadata": {},
   "outputs": [
    {
     "name": "stdout",
     "output_type": "stream",
     "text": [
      "976\n",
      "5408\n",
      "6320\n"
     ]
    }
   ],
   "source": [
    "def future_people(P, nP):\n",
    "    for _ in range(360):  # 30 years (30 years * 12 months = 360 months)\n",
    "        P += nP\n",
    "    return P\n",
    "\n",
    "\n",
    "print(future_people(256, 2))  \n",
    "print(future_people(3248, 6))  \n",
    "print(future_people(5240, 3)) \n"
   ]
  },
  {
   "cell_type": "markdown",
   "id": "377368a3",
   "metadata": {},
   "source": [
    "27. Create a function that returns the last value of the last item in a list or string.\n",
    "\n",
    "Examples\n",
    "last_ind([0, 4, 19, 34, 50, -9, 2]) ➞ 2\n",
    "\n",
    "last_ind(\"The quick brown fox jumped over the lazy dog\") ➞ \"g\"\n",
    "\n",
    "last_ind([]) ➞ None\n"
   ]
  },
  {
   "cell_type": "code",
   "execution_count": 30,
   "id": "d531a6e0",
   "metadata": {},
   "outputs": [
    {
     "name": "stdout",
     "output_type": "stream",
     "text": [
      "2\n",
      "g\n",
      "None\n"
     ]
    }
   ],
   "source": [
    "def last_ind(data):\n",
    "    if isinstance(data, list):\n",
    "        if len(data) > 0:\n",
    "            return data[-1]\n",
    "    elif isinstance(data, str):\n",
    "        if len(data) > 0:\n",
    "            return data[-1]\n",
    "    return None\n",
    "\n",
    "\n",
    "print(last_ind([0, 4, 19, 34, 50, -9, 2])) \n",
    "print(last_ind(\"The quick brown fox jumped over the lazy dog\"))  \n",
    "print(last_ind([])) \n"
   ]
  },
  {
   "cell_type": "markdown",
   "id": "f6d4b255",
   "metadata": {},
   "source": [
    "28. You can assign variables from lists like this:\n",
    "\n",
    "first, _ , last = [1, 2, 8]\n",
    "\n",
    "first   = lst[0]\n",
    "\n",
    "_   = ignores second value (2)\n",
    "\n",
    "last   = lst[-1]\n",
    "\n",
    "print(first) ➞ outputs 1\n",
    "print(last) ➞ outputs 8"
   ]
  },
  {
   "cell_type": "code",
   "execution_count": 31,
   "id": "11839c93",
   "metadata": {},
   "outputs": [
    {
     "name": "stdout",
     "output_type": "stream",
     "text": [
      "1\n",
      "8\n"
     ]
    }
   ],
   "source": [
    "def assign_first_last(lst):\n",
    "    first = lst[0]\n",
    "    last = lst[-1]\n",
    "    return first, last\n",
    "\n",
    "\n",
    "result_first, result_last = assign_first_last([1, 2, 8])\n",
    "print(result_first)  \n",
    "print(result_last)  \n"
   ]
  },
  {
   "cell_type": "markdown",
   "id": "fec5f8e7",
   "metadata": {},
   "source": [
    "29.   Scientists have discovered that in four decades, the world will EXPLODE! It will also take three decades to make a spaceship to travel to a new planet that can hold the entire world population.\n",
    "\n",
    "You must calculate the number of people there will be in three decades from now.\n",
    "\n",
    "The variable P is the world population now.\n",
    "Assume that every month, someone gives birth to more people nP.\n",
    "Return the number of people there will be when the spaceship is complete.\n",
    "\n",
    "Examples\n",
    "\n",
    "future_people(256, 2) ➞ 976\n",
    "\n",
    "future_people(3248, 6) ➞ 5408\n",
    "\n",
    "future_people(5240, 3) ➞ 6320"
   ]
  },
  {
   "cell_type": "code",
   "execution_count": 32,
   "id": "ee649020",
   "metadata": {},
   "outputs": [
    {
     "name": "stdout",
     "output_type": "stream",
     "text": [
      "976\n",
      "5408\n",
      "6320\n"
     ]
    }
   ],
   "source": [
    "def future_people(P, nP):\n",
    "    for _ in range(360):  # 30 years (30 years * 12 months = 360 months)\n",
    "        P += nP\n",
    "    return P\n",
    "\n",
    "\n",
    "print(future_people(256, 2)) \n",
    "print(future_people(3248, 6)) \n",
    "print(future_people(5240, 3))  "
   ]
  },
  {
   "cell_type": "markdown",
   "id": "1b9972a8",
   "metadata": {},
   "source": [
    " 30. Create a function that returns a number, based on the string provided. Here is a list of all digits:\n",
    "\n",
    "String\tNumber\n",
    "\n",
    "\"one\"\t1\n",
    "\"two\"\t2\n",
    "\"three\"\t3\n",
    "\"four\"\t4\n",
    "\"five\"\t5\n",
    "\"six\"\t6\n",
    "\"seven\"\t7\n",
    "\"eight\"\t8\n",
    "\"nine\"\t9\n",
    "\"zero\"\t0\n",
    "Examples\n",
    "\n",
    "word(\"one\") ➞ 1\n",
    "\n",
    "word(\"two\") ➞ 2\n",
    "\n",
    "word(\"nine\") ➞ 9"
   ]
  },
  {
   "cell_type": "code",
   "execution_count": 33,
   "id": "3cfefa39",
   "metadata": {},
   "outputs": [
    {
     "name": "stdout",
     "output_type": "stream",
     "text": [
      "1\n",
      "2\n",
      "9\n",
      "None\n"
     ]
    }
   ],
   "source": [
    "def word(s):\n",
    "    word_to_number = {\n",
    "        \"one\": 1,\n",
    "        \"two\": 2,\n",
    "        \"three\": 3,\n",
    "        \"four\": 4,\n",
    "        \"five\": 5,\n",
    "        \"six\": 6,\n",
    "        \"seven\": 7,\n",
    "        \"eight\": 8,\n",
    "        \"nine\": 9,\n",
    "        \"zero\": 0\n",
    "    }\n",
    "\n",
    "    return word_to_number.get(s, None)\n",
    "\n",
    "\n",
    "print(word(\"one\"))   \n",
    "print(word(\"two\"))  \n",
    "print(word(\"nine\"))  \n",
    "print(word(\"ten\"))  "
   ]
  },
  {
   "cell_type": "markdown",
   "id": "0956b088",
   "metadata": {},
   "source": [
    "31  create a function that takes two strings as arguments and returns the number of times the first string (the single character) is found in the second string.\n",
    "\n",
    "Examples\n",
    "\n",
    "char_count(\"a\", \"edabit\") ➞ 1\n",
    "\n",
    "char_count(\"c\", \"Chamber of secrets\") ➞ 1\n",
    "\n",
    "char_count(\"b\", \"big fat bubble\") ➞ 4"
   ]
  },
  {
   "cell_type": "code",
   "execution_count": 34,
   "id": "d14210a9",
   "metadata": {},
   "outputs": [
    {
     "name": "stdout",
     "output_type": "stream",
     "text": [
      "1\n",
      "1\n",
      "4\n"
     ]
    }
   ],
   "source": [
    "def char_count(char, text):\n",
    "    count = 0\n",
    "    for ch in text:\n",
    "        if ch == char:\n",
    "            count += 1\n",
    "    return count\n",
    "\n",
    "\n",
    "print(char_count(\"a\", \"edabit\"))              \n",
    "print(char_count(\"c\", \"Chamber of secrets\"))  \n",
    "print(char_count(\"b\", \"big fat bubble\"))     \n"
   ]
  },
  {
   "cell_type": "markdown",
   "id": "c8a0ee8c",
   "metadata": {},
   "source": [
    "32.  Create a function that takes a list and a string as arguments and returns the index of the string.\n",
    "\n",
    "Examples\n",
    "find_index([\"hi\", \"edabit\", \"fgh\", \"abc\"], \"fgh\") ➞ 2\n",
    "\n",
    "find_index([\"Red\", \"blue\", \"Blue\", \"Green\"], \"blue\") ➞ 1\n",
    "\n",
    "find_index([\"a\", \"g\", \"y\", \"d\"], \"d\") ➞ 3\n",
    "\n",
    "find_index([\"Pineapple\", \"Orange\", \"Grape\", \"Apple\"], \"Pineapple\") ➞ 0"
   ]
  },
  {
   "cell_type": "code",
   "execution_count": 35,
   "id": "7ab25506",
   "metadata": {},
   "outputs": [
    {
     "name": "stdout",
     "output_type": "stream",
     "text": [
      "2\n",
      "1\n",
      "3\n",
      "0\n"
     ]
    }
   ],
   "source": [
    "def find_index(lst, target):\n",
    "    for i, item in enumerate(lst):\n",
    "        if item == target:\n",
    "            return i\n",
    "    return None\n",
    "\n",
    "\n",
    "print(find_index([\"hi\", \"edabit\", \"fgh\", \"abc\"], \"fgh\"))    \n",
    "print(find_index([\"Red\", \"blue\", \"Blue\", \"Green\"], \"blue\"))  \n",
    "print(find_index([\"a\", \"g\", \"y\", \"d\"], \"d\"))                \n",
    "print(find_index([\"Pineapple\", \"Orange\", \"Grape\", \"Apple\"], \"Pineapple\"))  \n"
   ]
  },
  {
   "cell_type": "markdown",
   "id": "89457ae4",
   "metadata": {},
   "source": [
    "33.  Create a function which returns the length of a string, without using len().\n",
    "\n",
    "Examples\n",
    "length(\"Hello World\") ➞ 11\n",
    "\n",
    "length(\"Edabit\") ➞ 6\n",
    "\n",
    "length(\"wash your hands!\") ➞ 16"
   ]
  },
  {
   "cell_type": "code",
   "execution_count": 36,
   "id": "7a0b19ae",
   "metadata": {},
   "outputs": [
    {
     "name": "stdout",
     "output_type": "stream",
     "text": [
      "11\n",
      "6\n",
      "16\n"
     ]
    }
   ],
   "source": [
    "def length(s):\n",
    "    count = 0\n",
    "    for char in s:\n",
    "        count += 1\n",
    "    return count\n",
    "\n",
    "\n",
    "print(length(\"Hello World\"))     \n",
    "print(length(\"Edabit\"))         \n",
    "print(length(\"wash your hands!\"))  \n"
   ]
  },
  {
   "cell_type": "markdown",
   "id": "4dff4a9a",
   "metadata": {},
   "source": [
    "34. Given a letter and a list of words, return whether the letter does not appear in any of the words.\n",
    "\n",
    "Examples\n",
    "\n",
    "forbidden_letter(\"r\", [\"rock\", \"paper\", \"scissors\"]) ➞ False\n",
    "\n",
    "forbidden_letter(\"a\", [\"spoon\", \"fork\", \"knife\"]) ➞ True\n",
    "\n",
    "forbidden_letter(\"m\", []) ➞ True"
   ]
  },
  {
   "cell_type": "code",
   "execution_count": 38,
   "id": "c441d797",
   "metadata": {},
   "outputs": [
    {
     "name": "stdout",
     "output_type": "stream",
     "text": [
      "False\n",
      "True\n",
      "True\n"
     ]
    }
   ],
   "source": [
    "def forbidden_letter(letter, words):\n",
    "    for word in words:\n",
    "        if letter in word:\n",
    "            return False\n",
    "    return True\n",
    "\n",
    "\n",
    "print(forbidden_letter(\"r\", [\"rock\", \"paper\", \"scissors\"])) \n",
    "print(forbidden_letter(\"a\", [\"spoon\", \"fork\", \"knife\"]))     \n",
    "print(forbidden_letter(\"m\", []))                            \n"
   ]
  },
  {
   "cell_type": "markdown",
   "id": "11943afd",
   "metadata": {},
   "source": [
    " 35 .Create a function that takes a 2D list lst and returns the sum of the minimum value in each row.\n",
    "\n",
    "Examples\n",
    "sum_minimums([\n",
    "  [1, 2, 3, 4, 5],\n",
    "  [5, 6, 7, 8, 9],\n",
    "  [20, 21, 34, 56, 100]\n",
    "]) ➞ 26\n",
    "\n",
    " minimum value of the first row is 1\n",
    "minimum value of the second row is 5\n",
    " minimum value of the third row is 20"
   ]
  },
  {
   "cell_type": "code",
   "execution_count": 40,
   "id": "ce4f737a",
   "metadata": {},
   "outputs": [
    {
     "name": "stdout",
     "output_type": "stream",
     "text": [
      "26\n"
     ]
    }
   ],
   "source": [
    "def sum_minimums(lst):\n",
    "    total_sum = 0\n",
    "    for row in lst:\n",
    "        min_value = row[0]  # Initialize min_value with the first element of the row\n",
    "        for num in row:\n",
    "            if num < min_value:\n",
    "                min_value = num\n",
    "        total_sum += min_value\n",
    "    return total_sum\n",
    "\n",
    "\n",
    "print(sum_minimums([[1, 2, 3, 4, 5], [5, 6, 7, 8, 9], [20, 21, 34, 56, 100]]))  "
   ]
  },
  {
   "cell_type": "markdown",
   "id": "5e4a3dc8",
   "metadata": {},
   "source": [
    "36. Create a function that finds each factor of a given number n. Your solution should return a list of the number(s) that meet this criteria.\n",
    "\n",
    "Examples\n",
    "find_factors(9) ➞ [1, 3, 9]\n",
    "#has three factors 1, 3 and 9\n",
    "\n",
    "find_factors(12) ➞ [1, 2, 3, 4, 6, 12]\n",
    "\n",
    "find_factors(20) ➞ [1, 2, 4, 5, 10, 20]\n",
    "\n",
    "fi 0 has no factors"
   ]
  },
  {
   "cell_type": "code",
   "execution_count": 41,
   "id": "f80042ea",
   "metadata": {},
   "outputs": [
    {
     "name": "stdout",
     "output_type": "stream",
     "text": [
      "[1, 3, 9]\n",
      "[1, 2, 3, 4, 6, 12]\n",
      "[1, 2, 4, 5, 10, 20]\n"
     ]
    }
   ],
   "source": [
    "def find_factors(n):\n",
    "    factors = []\n",
    "    for i in range(1, n + 1):\n",
    "        if n % i == 0:\n",
    "            factors.append(i)\n",
    "    return factors\n",
    "\n",
    "\n",
    "print(find_factors(9))  \n",
    "print(find_factors(12)) \n",
    "print(find_factors(20))  \n"
   ]
  },
  {
   "cell_type": "markdown",
   "id": "6c9e7982",
   "metadata": {},
   "source": [
    "37 .Given a string, create a function to reverse the case. All lower-cased letters should be upper-cased, and vice versa.\n",
    "\n",
    "Examples\n",
    "reverse_case(\"Happy Birthday\") ➞ \"hAPPY bIRTHDAY\"\n",
    "\n",
    "reverse_case(\"MANY THANKS\") ➞ \"many thanks\"\n",
    "\n",
    "reverse_case(\"sPoNtAnEoUs\") ➞ \"SpOnTaNeOuS\"\n"
   ]
  },
  {
   "cell_type": "code",
   "execution_count": 43,
   "id": "d1794c67",
   "metadata": {},
   "outputs": [
    {
     "name": "stdout",
     "output_type": "stream",
     "text": [
      "hAPPY bIRTHDAY\n",
      "many thanks\n",
      "SpOnTaNeOuS\n"
     ]
    }
   ],
   "source": [
    "def reverse_case(input_string):\n",
    "    reversed_string = \"\"\n",
    "    for char in input_string:\n",
    "        if char.islower():\n",
    "            reversed_string += char.upper()\n",
    "        elif char.isupper():\n",
    "            reversed_string += char.lower()\n",
    "        else:\n",
    "            reversed_string += char\n",
    "    return reversed_string\n",
    "\n",
    "print(reverse_case(\"Happy Birthday\")) \n",
    "print(reverse_case(\"MANY THANKS\"))  \n",
    "print(reverse_case(\"sPoNtAnEoUs\")) "
   ]
  },
  {
   "cell_type": "markdown",
   "id": "06249e1e",
   "metadata": {},
   "source": [
    "  38.Write a Python program to print all the numbers from 1 to 10.\n",
    "\n",
    "python\n"
   ]
  },
  {
   "cell_type": "code",
   "execution_count": 44,
   "id": "54122238",
   "metadata": {},
   "outputs": [
    {
     "name": "stdout",
     "output_type": "stream",
     "text": [
      "1\n",
      "2\n",
      "3\n",
      "4\n",
      "5\n",
      "6\n",
      "7\n",
      "8\n",
      "9\n",
      "10\n"
     ]
    }
   ],
   "source": [
    "# Answer 1\n",
    "for i in range(1, 11):\n",
    "    print(i)\n"
   ]
  },
  {
   "cell_type": "markdown",
   "id": "3d7b99d3",
   "metadata": {},
   "source": [
    "39. Write a Python program to find the sum of all numbers from 1 to 100."
   ]
  },
  {
   "cell_type": "code",
   "execution_count": 45,
   "id": "4aa1adab",
   "metadata": {},
   "outputs": [
    {
     "name": "stdout",
     "output_type": "stream",
     "text": [
      "5050\n"
     ]
    }
   ],
   "source": [
    "\n",
    "sum_numbers = 0\n",
    "for i in range(1, 101):\n",
    "    sum_numbers += i\n",
    "print(sum_numbers)\n"
   ]
  },
  {
   "cell_type": "markdown",
   "id": "44f09943",
   "metadata": {},
   "source": [
    "40. Write a Python program to print the multiplication table of a given number."
   ]
  },
  {
   "cell_type": "code",
   "execution_count": 46,
   "id": "5f52e08c",
   "metadata": {},
   "outputs": [
    {
     "name": "stdout",
     "output_type": "stream",
     "text": [
      "7 x 1 = 7\n",
      "7 x 2 = 14\n",
      "7 x 3 = 21\n",
      "7 x 4 = 28\n",
      "7 x 5 = 35\n",
      "7 x 6 = 42\n",
      "7 x 7 = 49\n",
      "7 x 8 = 56\n",
      "7 x 9 = 63\n",
      "7 x 10 = 70\n"
     ]
    }
   ],
   "source": [
    "\n",
    "num = 7\n",
    "for i in range(1, 11):\n",
    "    print(f\"{num} x {i} = {num * i}\")\n"
   ]
  },
  {
   "cell_type": "markdown",
   "id": "e906176c",
   "metadata": {},
   "source": [
    "41. Write a Python program to find the factorial of a given number."
   ]
  },
  {
   "cell_type": "code",
   "execution_count": 47,
   "id": "81c456fe",
   "metadata": {},
   "outputs": [
    {
     "name": "stdout",
     "output_type": "stream",
     "text": [
      "120\n"
     ]
    }
   ],
   "source": [
    "def factorial(n):\n",
    "    result = 1\n",
    "    for i in range(1, n + 1):\n",
    "        result *= i\n",
    "    return result\n",
    "\n",
    "print(factorial(5))"
   ]
  },
  {
   "cell_type": "markdown",
   "id": "f677aa43",
   "metadata": {},
   "source": [
    "42.Write a Python program to check if a given number is prime."
   ]
  },
  {
   "cell_type": "code",
   "execution_count": 48,
   "id": "66d41366",
   "metadata": {},
   "outputs": [
    {
     "name": "stdout",
     "output_type": "stream",
     "text": [
      "True\n"
     ]
    }
   ],
   "source": [
    "\n",
    "def is_prime(n):\n",
    "    if n <= 1:\n",
    "        return False\n",
    "    for i in range(2, int(n ** 0.5) + 1):\n",
    "        if n % i == 0:\n",
    "            return False\n",
    "    return True\n",
    "\n",
    "print(is_prime(13))\n"
   ]
  },
  {
   "cell_type": "markdown",
   "id": "5dae5010",
   "metadata": {},
   "source": [
    "43.Write a Python program to print the Fibonacci series up to a given number."
   ]
  },
  {
   "cell_type": "code",
   "execution_count": 49,
   "id": "f8836255",
   "metadata": {},
   "outputs": [
    {
     "name": "stdout",
     "output_type": "stream",
     "text": [
      "0 1 1 2 3 5 8 13 21 34 55 89 "
     ]
    }
   ],
   "source": [
    "def fibonacci(n):\n",
    "    a, b = 0, 1\n",
    "    while a <= n:\n",
    "        print(a, end=\" \")\n",
    "        a, b = b, a + b\n",
    "\n",
    "fibonacci(100)"
   ]
  },
  {
   "cell_type": "markdown",
   "id": "268505ae",
   "metadata": {},
   "source": [
    "44. Write a Python program to count the number of even and odd numbers in a given list."
   ]
  },
  {
   "cell_type": "code",
   "execution_count": 52,
   "id": "31f653ba",
   "metadata": {},
   "outputs": [
    {
     "name": "stdout",
     "output_type": "stream",
     "text": [
      "Even numbers: 4\n",
      "Odd numbers: 3\n"
     ]
    }
   ],
   "source": [
    "numbers = [12, 7, 23, 8, 14, 9, 6]\n",
    "even_count = 0\n",
    "odd_count = 0\n",
    "\n",
    "for num in numbers:\n",
    "    if num % 2 == 0:\n",
    "        even_count += 1\n",
    "    else:\n",
    "        odd_count += 1\n",
    "\n",
    "print(\"Even numbers:\", even_count)\n",
    "print(\"Odd numbers:\", odd_count)\n"
   ]
  },
  {
   "cell_type": "markdown",
   "id": "6f53517a",
   "metadata": {},
   "source": [
    "45.Write a Python program to find the largest element in a given list. "
   ]
  },
  {
   "cell_type": "code",
   "execution_count": 53,
   "id": "1e89a1a2",
   "metadata": {},
   "outputs": [
    {
     "name": "stdout",
     "output_type": "stream",
     "text": [
      "Largest element: 42\n"
     ]
    }
   ],
   "source": [
    "numbers = [15, 6, 27, 42, 18]\n",
    "largest = numbers[0]\n",
    "\n",
    "for num in numbers:\n",
    "    if num > largest:\n",
    "        largest = num\n",
    "\n",
    "print(\"Largest element:\", largest)"
   ]
  },
  {
   "cell_type": "markdown",
   "id": "80a0d16b",
   "metadata": {},
   "source": [
    "46. Write a Python program to check if a given string is a palindrome."
   ]
  },
  {
   "cell_type": "code",
   "execution_count": 54,
   "id": "82c802c0",
   "metadata": {},
   "outputs": [
    {
     "name": "stdout",
     "output_type": "stream",
     "text": [
      "True\n"
     ]
    }
   ],
   "source": [
    "def is_palindrome(s):\n",
    "    s = s.lower().replace(\" \", \"\")\n",
    "    return s == s[::-1]\n",
    "\n",
    "print(is_palindrome(\"level\"))"
   ]
  },
  {
   "cell_type": "markdown",
   "id": "d6344a99",
   "metadata": {},
   "source": [
    "47. Write a Python program to find the common elements between two lists.\n",
    "\n",
    "\n"
   ]
  },
  {
   "cell_type": "code",
   "execution_count": 56,
   "id": "1795a5d6",
   "metadata": {},
   "outputs": [
    {
     "name": "stdout",
     "output_type": "stream",
     "text": [
      "[3, 4, 5]\n"
     ]
    }
   ],
   "source": [
    "list1 = [1, 2, 3, 4, 5]\n",
    "list2 = [3, 4, 5, 6, 7]\n",
    "\n",
    "common_elements = []\n",
    "\n",
    "for num in list1:\n",
    "    if num in list2:\n",
    "        common_elements.append(num)\n",
    "\n",
    "print(common_elements)"
   ]
  },
  {
   "cell_type": "markdown",
   "id": "d3bd03b3",
   "metadata": {},
   "source": [
    "48.Write a Python program to print the following pattern:"
   ]
  },
  {
   "cell_type": "code",
   "execution_count": 58,
   "id": "3b7d30dc",
   "metadata": {},
   "outputs": [
    {
     "name": "stdout",
     "output_type": "stream",
     "text": [
      "*\n",
      "**\n",
      "***\n",
      "****\n",
      "*****\n"
     ]
    }
   ],
   "source": [
    "for i in range(1, 6):\n",
    "    print(\"*\" * i)\n"
   ]
  },
  {
   "cell_type": "markdown",
   "id": "21be80d3",
   "metadata": {},
   "source": [
    "49.Write a Python program to find the GCD (Greatest Common Divisor) of two numbers."
   ]
  },
  {
   "cell_type": "code",
   "execution_count": 59,
   "id": "8e0d829c",
   "metadata": {},
   "outputs": [
    {
     "name": "stdout",
     "output_type": "stream",
     "text": [
      "6\n"
     ]
    }
   ],
   "source": [
    "def gcd(a, b):\n",
    "    while b:\n",
    "        a, b = b, a % b\n",
    "    return a\n",
    "\n",
    "print(gcd(48, 18))"
   ]
  },
  {
   "cell_type": "markdown",
   "id": "17204b92",
   "metadata": {},
   "source": [
    "50.Write a Python program to find the factorial of a given number using recursion."
   ]
  },
  {
   "cell_type": "code",
   "execution_count": 60,
   "id": "5ae716e8",
   "metadata": {},
   "outputs": [
    {
     "name": "stdout",
     "output_type": "stream",
     "text": [
      "120\n"
     ]
    }
   ],
   "source": [
    "def factorial(n):\n",
    "    if n == 0 or n == 1:\n",
    "        return 1\n",
    "    else:\n",
    "        return n * factorial(n - 1)\n",
    "\n",
    "print(factorial(5))"
   ]
  },
  {
   "cell_type": "code",
   "execution_count": null,
   "id": "fd0afb22",
   "metadata": {},
   "outputs": [],
   "source": []
  }
 ],
 "metadata": {
  "kernelspec": {
   "display_name": "Python 3 (ipykernel)",
   "language": "python",
   "name": "python3"
  },
  "language_info": {
   "codemirror_mode": {
    "name": "ipython",
    "version": 3
   },
   "file_extension": ".py",
   "mimetype": "text/x-python",
   "name": "python",
   "nbconvert_exporter": "python",
   "pygments_lexer": "ipython3",
   "version": "3.10.9"
  }
 },
 "nbformat": 4,
 "nbformat_minor": 5
}
