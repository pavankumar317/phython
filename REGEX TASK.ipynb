{
 "cells": [
  {
   "cell_type": "code",
   "execution_count": 1,
   "id": "1b1d1f85",
   "metadata": {},
   "outputs": [],
   "source": [
    "import regex as re"
   ]
  },
  {
   "cell_type": "code",
   "execution_count": 2,
   "id": "c60a1fb0",
   "metadata": {},
   "outputs": [],
   "source": [
    "text = '''terribleSnail\n",
    "abc123\n",
    "condemnedInstructor\n",
    "messsage\n",
    "keep_it_simple_stupid\n",
    "Zoran L Fang\n",
    "myUsername210\n",
    "abc\n",
    "asdf\n",
    "joshy\n",
    "Hank Lazowska\n",
    "123feralHog\n",
    "Red Panda5\n",
    "1\n",
    "abc1\n",
    "DIRT\n",
    "*star*\n",
    "oshie poshy\n",
    "0shie p0shy\n",
    "OSHIE POSHY\n",
    "O Posh\n",
    "Oshie poshy\n",
    "oshie Poshy'''"
   ]
  },
  {
   "cell_type": "markdown",
   "id": "00780d27",
   "metadata": {},
   "source": [
    "#### Write the command that finds all usernames from names.txt that contain at least one numeric character.\n"
   ]
  },
  {
   "cell_type": "code",
   "execution_count": 49,
   "id": "39b21dd0",
   "metadata": {},
   "outputs": [
    {
     "data": {
      "text/plain": [
       "['abc123',\n",
       " 'myUsername210',\n",
       " '123feralHog',\n",
       " 'Panda5',\n",
       " '1',\n",
       " 'abc1',\n",
       " '0shie',\n",
       " 'p0shy']"
      ]
     },
     "execution_count": 49,
     "metadata": {},
     "output_type": "execute_result"
    }
   ],
   "source": [
    "re.findall(r'\\w*\\d\\w*',text)"
   ]
  },
  {
   "cell_type": "markdown",
   "id": "f3a8781a",
   "metadata": {},
   "source": [
    "#### Write the command that finds all usernames from names.txt that are exactly 4 characters long and consist only of alphabetic characters.\n"
   ]
  },
  {
   "cell_type": "code",
   "execution_count": 56,
   "id": "da71c78d",
   "metadata": {},
   "outputs": [
    {
     "data": {
      "text/plain": [
       "['Fang\\n', 'asdf\\n', 'DIRT\\n', 'Posh\\n']"
      ]
     },
     "execution_count": 56,
     "metadata": {},
     "output_type": "execute_result"
    }
   ],
   "source": [
    "re.findall(r'\\b[a-zA-Z]{4}\\n',text)"
   ]
  },
  {
   "cell_type": "markdown",
   "id": "21b11c1b",
   "metadata": {},
   "source": [
    "#### Write the command that finds all first and last names in names.txt. A name is an uppercase letter followed by one or more lowercase letters and first and last names are separated by a single space. Your command should not match against names that contain a middle name or initials.\n"
   ]
  },
  {
   "cell_type": "code",
   "execution_count": 59,
   "id": "48b5918f",
   "metadata": {},
   "outputs": [
    {
     "data": {
      "text/plain": [
       "['Hank Lazowska']"
      ]
     },
     "execution_count": 59,
     "metadata": {},
     "output_type": "execute_result"
    }
   ],
   "source": [
    "re.findall(r'\\b[A-Z][a-z]+ [A-Z][a-z]+\\b',text)"
   ]
  },
  {
   "cell_type": "code",
   "execution_count": 37,
   "id": "58ff6e5f",
   "metadata": {},
   "outputs": [],
   "source": [
    "email_id ='''jle@uw.edu\n",
    "k@gmailcom\n",
    "hissingDonkey567@yahoo.com\n",
    "342highground@council.com\n",
    "aszotatgmail.co\n",
    "hopkins@apple.COM\n",
    "justchilling@cedarrapids|com\n",
    "perkins8@uw.com\n",
    "colorfulcupcake\n",
    "fungfangfaang@agar.io\n",
    "joshmyrealemail@imake.tools\n",
    "asuperduperuberlongemail@miles.long'''"
   ]
  },
  {
   "cell_type": "markdown",
   "id": "16a19b7a",
   "metadata": {},
   "source": [
    "#### 'As part of account creation, customers must provide a valid email address. Write a command that prints out all valid email addresses from emails.txt. For the purposes of this assignment, we will use a simplified version of a valid email address, which is defined as follows:\n",
    "Between 1 and 16 lowercase letters, uppercase letters, or digits\\\n",
    "An @ symbol\\\n",
    "A domain (e.g., gmail) that consists of any number of lowercase letters\\\n",
    "A period\\\n",
    "A tld (top level domain, e.g., .com) that consists of 2 or more lowercase letters\\\n",
    "You may assume that emails.txt contains one email per line.\n",
    "'"
   ]
  },
  {
   "cell_type": "code",
   "execution_count": 57,
   "id": "4b351ea3",
   "metadata": {},
   "outputs": [
    {
     "data": {
      "text/plain": [
       "['jle@uw.edu',\n",
       " 'hissingDonkey567@yahoo.com',\n",
       " '342highground@council.com',\n",
       " 'perkins8@uw.com',\n",
       " 'fungfangfaang@agar.io',\n",
       " 'joshmyrealemail@imake.tools']"
      ]
     },
     "execution_count": 57,
     "metadata": {},
     "output_type": "execute_result"
    }
   ],
   "source": [
    "re.findall(r'\\b\\w{1,16}@[a-z]+\\.[a-z]{2,}\\b+',email_id)"
   ]
  },
  {
   "cell_type": "markdown",
   "id": "75cacfff",
   "metadata": {},
   "source": [
    "Customers also must choose a strong password when creating an account. Write a command that prints out all valid passwords in the file passwords.txt. A valid password at FAANG is defined as follows:\\\n",
    "It must be at least 8 characters long\\\n",
    "Must contain at least one uppercase character\\\n",
    "Must contain at least one lowercase character\\\n",
    "Must contain at least one digit.\\\n",
    "You may assume that passwords.txt contains one password per line.\n"
   ]
  },
  {
   "cell_type": "code",
   "execution_count": 61,
   "id": "0292231f",
   "metadata": {},
   "outputs": [],
   "source": [
    "password =''' missingAnyNumbers\n",
    "0123456\n",
    "01234567\n",
    "alllowercase\n",
    "ALLUPPERCASE\n",
    "Apples42\n",
    "orangE17\n",
    "1cupCake\n",
    "asdf\n",
    "720\n",
    "glhf56\n",
    "210afk '''"
   ]
  },
  {
   "cell_type": "code",
   "execution_count": 67,
   "id": "6386588d",
   "metadata": {},
   "outputs": [
    {
     "data": {
      "text/plain": [
       "['Apples42', 'orangE17', '1cupCake']"
      ]
     },
     "execution_count": 67,
     "metadata": {},
     "output_type": "execute_result"
    }
   ],
   "source": [
    "re.findall(r'\\b(?=.*[a-z])(?=.*[A-Z])(?=.*\\d).{8,}\\b',password)"
   ]
  },
  {
   "cell_type": "markdown",
   "id": "b0a43a16",
   "metadata": {},
   "source": [
    "`The format of these cards are as follows:\\\n",
    "Master Card\\\n",
    "Begins with a 5\\\n",
    "Exactly 16 digits long, grouped into sets of 4 separated by a space\\\n",
    "Visa\\\n",
    "Begins with a 4\\\n",
    "Between 13 and 16 digits long, grouped into sets of 4 (last may be shorter) separated by a space\\\n",
    "You may assume that cards.txt contains one credit card per line.\n"
   ]
  },
  {
   "cell_type": "code",
   "execution_count": 81,
   "id": "37907ea1",
   "metadata": {},
   "outputs": [],
   "source": [
    "cards = '''5123 4567 8910 1112\n",
    "5123456789101112\n",
    "3908 0978 0890 7890\n",
    "4789 2784 8910 8290\n",
    "4989 9321 1230 9\n",
    "5419 2933 1839 17\n",
    "4740 1839 1281\n",
    "4789 0870 8908 70987\n",
    "58907890782309171\n",
    "5192 9295 91828818\n",
    "4182 2884 1232 9582 2182'''"
   ]
  },
  {
   "cell_type": "code",
   "execution_count": 85,
   "id": "b9367400",
   "metadata": {},
   "outputs": [
    {
     "data": {
      "text/plain": [
       "['5123 4567 8910 1112', '5419 2933 1839 17']"
      ]
     },
     "execution_count": 85,
     "metadata": {},
     "output_type": "execute_result"
    }
   ],
   "source": [
    "re.findall(r'\\b5\\d{,3}\\s\\d{,4}\\s\\d{,4}\\s\\d{,4}',cards)"
   ]
  },
  {
   "cell_type": "code",
   "execution_count": 90,
   "id": "07456b19",
   "metadata": {},
   "outputs": [
    {
     "data": {
      "text/plain": [
       "['4567 8910 1112',\n",
       " '4789 2784 8910 8290',\n",
       " '4989 9321 1230',\n",
       " '4740 1839 1281\\n4789',\n",
       " '4182 2884 1232 9582']"
      ]
     },
     "execution_count": 90,
     "metadata": {},
     "output_type": "execute_result"
    }
   ],
   "source": [
    "re.findall(r'4\\d{3}(?:\\s\\d{4}){2,3}\\b',cards)"
   ]
  },
  {
   "cell_type": "markdown",
   "id": "c8022ade",
   "metadata": {},
   "source": [
    "#### Print all of the DNA sequences in the file (all of the non-names)."
   ]
  },
  {
   "cell_type": "code",
   "execution_count": 87,
   "id": "c42b3ac0",
   "metadata": {},
   "outputs": [],
   "source": [
    "dna = '''Simple Protein-Coding Gene\n",
    "ATGCCACTATGGTAG\n",
    "Upper and Lowercase Protein\n",
    "ATgCCAACATGgATGCCcGATAtGGATTgA\n",
    "Valid Gene\n",
    "ATGCGACCCTAGTAG\n",
    "Invalid Gene\n",
    "ATGCGACCCTAGTAGGG\n",
    "Another Protein-Coding Gene\n",
    "ATGACCGACTCAGTATAA\n",
    "Yet-Another Protein-Coding Gene\n",
    "ATGATCGACTACGATTAG\n",
    "Yet-Again-Another Protein-Coding Gene\n",
    "ATGATTGGGCCCGCTTAGTAGTGA\n",
    "Invalid Protein-Coding Gene\n",
    "ATGACCGACTCAGTAAAT\n",
    "Another Invalid Protein-Coding Gene\n",
    "ATGACCGACTAG\n",
    "Yet-Another Invalid Protein-Coding Gene\n",
    "AGGATTGGGCCCGCTTAGTAGTGA\n",
    "Feline-Encoding DNA\n",
    "CATCATCATCATCATCATCATCATCATCAT\n",
    "Palindrome DNA\n",
    "ACTTCA\n",
    "First And Last DNA\n",
    "TAGACGTACCTTAG'''"
   ]
  },
  {
   "cell_type": "markdown",
   "id": "c0a6970c",
   "metadata": {},
   "source": [
    "### Print all of the DNA sequences in the file (all of the non-names)."
   ]
  },
  {
   "cell_type": "code",
   "execution_count": 94,
   "id": "e3943c82",
   "metadata": {},
   "outputs": [
    {
     "data": {
      "text/plain": [
       "['ATGCCACTATGGTAG',\n",
       " 'ATGCGACCCTAGTAG',\n",
       " 'ATGCGACCCTAGTAGGG',\n",
       " 'ATGACCGACTCAGTATAA',\n",
       " 'ATGATCGACTACGATTAG',\n",
       " 'ATGATTGGGCCCGCTTAGTAGTGA',\n",
       " 'ATGACCGACTCAGTAAAT',\n",
       " 'ATGACCGACTAG',\n",
       " 'AGGATTGGGCCCGCTTAGTAGTGA',\n",
       " 'CATCATCATCATCATCATCATCATCATCAT',\n",
       " 'ACTTCA',\n",
       " 'TAGACGTACCTTAG']"
      ]
     },
     "execution_count": 94,
     "metadata": {},
     "output_type": "execute_result"
    }
   ],
   "source": [
    "re.findall(r'\\b[A|C|T|G]+\\b',dna)"
   ]
  },
  {
   "cell_type": "markdown",
   "id": "77b5c97d",
   "metadata": {},
   "source": [
    "#### Print all of the names of DNA sequences in the file."
   ]
  },
  {
   "cell_type": "code",
   "execution_count": 99,
   "id": "895dc19b",
   "metadata": {},
   "outputs": [
    {
     "data": {
      "text/plain": [
       "['ATGCCACTATGGTAG',\n",
       " 'ATgCCAACATGgATGCCcGATAtGGATTgA',\n",
       " 'ATGCGACCCTAGTAG',\n",
       " 'ATGCGACCCTAGTAGGG',\n",
       " 'ATGACCGACTCAGTATAA',\n",
       " 'ATGATCGACTACGATTAG',\n",
       " 'ATGATTGGGCCCGCTTAGTAGTGA',\n",
       " 'ATGACCGACTCAGTAAAT',\n",
       " 'ATGACCGACTAG',\n",
       " 'AGGATTGGGCCCGCTTAGTAGTGA',\n",
       " 'CATCATCATCATCATCATCATCATCATCAT',\n",
       " 'ACTTCA',\n",
       " 'TAGACGTACCTTAG']"
      ]
     },
     "execution_count": 99,
     "metadata": {},
     "output_type": "execute_result"
    }
   ],
   "source": [
    "re.findall(r'^[a-zA-Z0-9]+$',dna,re.MULTILINE)"
   ]
  },
  {
   "cell_type": "code",
   "execution_count": null,
   "id": "8ae8c633",
   "metadata": {},
   "outputs": [],
   "source": []
  }
 ],
 "metadata": {
  "kernelspec": {
   "display_name": "Python 3 (ipykernel)",
   "language": "python",
   "name": "python3"
  },
  "language_info": {
   "codemirror_mode": {
    "name": "ipython",
    "version": 3
   },
   "file_extension": ".py",
   "mimetype": "text/x-python",
   "name": "python",
   "nbconvert_exporter": "python",
   "pygments_lexer": "ipython3",
   "version": "3.11.5"
  }
 },
 "nbformat": 4,
 "nbformat_minor": 5
}
